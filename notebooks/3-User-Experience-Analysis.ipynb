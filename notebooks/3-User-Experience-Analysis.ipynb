{
 "cells": [
  {
   "cell_type": "markdown",
   "metadata": {},
   "source": [
    "# User Experience Analysis\n",
    "\n",
    "We will be continuing where we left of on the User Engagement notebook"
   ]
  },
  {
   "cell_type": "code",
   "execution_count": 1,
   "metadata": {},
   "outputs": [],
   "source": [
    "%%capture\n",
    "%run \"./2-User-Engagement-Analysis.ipynb\"\n",
    "# users_data = users_data.head()\n",
    "# if 'Unnamed: 0' in users_data.columns:\n",
    "#     users_data.drop(columns=['Unnamed: 0'], inplace=True)\n"
   ]
  },
  {
   "cell_type": "code",
   "execution_count": 2,
   "metadata": {},
   "outputs": [
    {
     "data": {
      "text/plain": [
       "pandas.core.groupby.generic.DataFrameGroupBy"
      ]
     },
     "execution_count": 2,
     "metadata": {},
     "output_type": "execute_result"
    }
   ],
   "source": [
    "type(users_data)"
   ]
  },
  {
   "cell_type": "markdown",
   "metadata": {},
   "source": [
    "per customer Aggregation of QoS related features\n",
    "\n",
    " - Average TCP retransmission Volumne\n",
    " - Average RTT durations in ms\n",
    " - Handset type\n",
    " - Average throughput\n"
   ]
  },
  {
   "cell_type": "code",
   "execution_count": 3,
   "metadata": {},
   "outputs": [
    {
     "data": {
      "text/html": [
       "<div>\n",
       "<style scoped>\n",
       "    .dataframe tbody tr th:only-of-type {\n",
       "        vertical-align: middle;\n",
       "    }\n",
       "\n",
       "    .dataframe tbody tr th {\n",
       "        vertical-align: top;\n",
       "    }\n",
       "\n",
       "    .dataframe thead th {\n",
       "        text-align: right;\n",
       "    }\n",
       "</style>\n",
       "<table border=\"1\" class=\"dataframe\">\n",
       "  <thead>\n",
       "    <tr style=\"text-align: right;\">\n",
       "      <th></th>\n",
       "      <th>TCP DL Retrans. Vol (Bytes)</th>\n",
       "      <th>TCP UL Retrans. Vol (Bytes)</th>\n",
       "    </tr>\n",
       "    <tr>\n",
       "      <th>MSISDN/Number</th>\n",
       "      <th></th>\n",
       "      <th></th>\n",
       "    </tr>\n",
       "  </thead>\n",
       "  <tbody>\n",
       "    <tr>\n",
       "      <th>33601001722.00</th>\n",
       "      <td>21006808.73</td>\n",
       "      <td>771051.81</td>\n",
       "    </tr>\n",
       "    <tr>\n",
       "      <th>33601001754.00</th>\n",
       "      <td>21006808.73</td>\n",
       "      <td>771051.81</td>\n",
       "    </tr>\n",
       "    <tr>\n",
       "      <th>33601002511.00</th>\n",
       "      <td>21006808.73</td>\n",
       "      <td>771051.81</td>\n",
       "    </tr>\n",
       "    <tr>\n",
       "      <th>33601007832.00</th>\n",
       "      <td>1066.00</td>\n",
       "      <td>771051.81</td>\n",
       "    </tr>\n",
       "    <tr>\n",
       "      <th>33601008617.00</th>\n",
       "      <td>30356438.73</td>\n",
       "      <td>792253.81</td>\n",
       "    </tr>\n",
       "  </tbody>\n",
       "</table>\n",
       "</div>"
      ],
      "text/plain": [
       "                TCP DL Retrans. Vol (Bytes)  TCP UL Retrans. Vol (Bytes)\n",
       "MSISDN/Number                                                           \n",
       "33601001722.00                  21006808.73                    771051.81\n",
       "33601001754.00                  21006808.73                    771051.81\n",
       "33601002511.00                  21006808.73                    771051.81\n",
       "33601007832.00                      1066.00                    771051.81\n",
       "33601008617.00                  30356438.73                    792253.81"
      ]
     },
     "execution_count": 3,
     "metadata": {},
     "output_type": "execute_result"
    }
   ],
   "source": [
    "avg_TCPr_uldl_vol_columns = ['TCP DL Retrans. Vol (Bytes)', 'TCP UL Retrans. Vol (Bytes)']\n",
    "avg_TCPr_uldl_vol = users_data[avg_TCPr_uldl_vol_columns].sum()\n",
    "avg_TCPr_uldl_vol.head()"
   ]
  },
  {
   "cell_type": "code",
   "execution_count": 4,
   "metadata": {},
   "outputs": [
    {
     "data": {
      "text/html": [
       "<div>\n",
       "<style scoped>\n",
       "    .dataframe tbody tr th:only-of-type {\n",
       "        vertical-align: middle;\n",
       "    }\n",
       "\n",
       "    .dataframe tbody tr th {\n",
       "        vertical-align: top;\n",
       "    }\n",
       "\n",
       "    .dataframe thead th {\n",
       "        text-align: right;\n",
       "    }\n",
       "</style>\n",
       "<table border=\"1\" class=\"dataframe\">\n",
       "  <thead>\n",
       "    <tr style=\"text-align: right;\">\n",
       "      <th></th>\n",
       "      <th>Avg RTT DL (ms)</th>\n",
       "      <th>Avg RTT UL (ms)</th>\n",
       "    </tr>\n",
       "    <tr>\n",
       "      <th>MSISDN/Number</th>\n",
       "      <th></th>\n",
       "      <th></th>\n",
       "    </tr>\n",
       "  </thead>\n",
       "  <tbody>\n",
       "    <tr>\n",
       "      <th>33601001722.00</th>\n",
       "      <td>46.00</td>\n",
       "      <td>0.00</td>\n",
       "    </tr>\n",
       "    <tr>\n",
       "      <th>33601001754.00</th>\n",
       "      <td>30.00</td>\n",
       "      <td>1.00</td>\n",
       "    </tr>\n",
       "    <tr>\n",
       "      <th>33601002511.00</th>\n",
       "      <td>45.00</td>\n",
       "      <td>5.00</td>\n",
       "    </tr>\n",
       "    <tr>\n",
       "      <th>33601007832.00</th>\n",
       "      <td>69.00</td>\n",
       "      <td>15.00</td>\n",
       "    </tr>\n",
       "    <tr>\n",
       "      <th>33601008617.00</th>\n",
       "      <td>114.00</td>\n",
       "      <td>5.00</td>\n",
       "    </tr>\n",
       "  </tbody>\n",
       "</table>\n",
       "</div>"
      ],
      "text/plain": [
       "                Avg RTT DL (ms)  Avg RTT UL (ms)\n",
       "MSISDN/Number                                   \n",
       "33601001722.00            46.00             0.00\n",
       "33601001754.00            30.00             1.00\n",
       "33601002511.00            45.00             5.00\n",
       "33601007832.00            69.00            15.00\n",
       "33601008617.00           114.00             5.00"
      ]
     },
     "execution_count": 4,
     "metadata": {},
     "output_type": "execute_result"
    }
   ],
   "source": [
    "avg_RTT_uldl_columns = ['Avg RTT DL (ms)', 'Avg RTT UL (ms)']\n",
    "avg_RTT_uldl = users_data[avg_RTT_uldl_columns].sum()\n",
    "avg_RTT_uldl.head()"
   ]
  },
  {
   "cell_type": "code",
   "execution_count": 5,
   "metadata": {},
   "outputs": [
    {
     "data": {
      "text/plain": [
       "MSISDN/Number\n",
       "33601001722.00    [Huawei P20 Lite Huawei Nova 3E]\n",
       "33601001754.00            [Apple iPhone 7 (A1778)]\n",
       "33601002511.00                         [undefined]\n",
       "33601007832.00           [Apple iPhone 5S (A1457)]\n",
       "33601008617.00           [Apple iPhone Se (A1723)]\n",
       "Name: Handset Type, dtype: object"
      ]
     },
     "execution_count": 5,
     "metadata": {},
     "output_type": "execute_result"
    }
   ],
   "source": [
    "handset_type = users_data['Handset Type'].unique()\n",
    "handset_type.head(5)\n"
   ]
  },
  {
   "cell_type": "code",
   "execution_count": 6,
   "metadata": {},
   "outputs": [
    {
     "data": {
      "text/html": [
       "<div>\n",
       "<style scoped>\n",
       "    .dataframe tbody tr th:only-of-type {\n",
       "        vertical-align: middle;\n",
       "    }\n",
       "\n",
       "    .dataframe tbody tr th {\n",
       "        vertical-align: top;\n",
       "    }\n",
       "\n",
       "    .dataframe thead th {\n",
       "        text-align: right;\n",
       "    }\n",
       "</style>\n",
       "<table border=\"1\" class=\"dataframe\">\n",
       "  <thead>\n",
       "    <tr style=\"text-align: right;\">\n",
       "      <th></th>\n",
       "      <th>Avg Bearer TP DL (kbps)</th>\n",
       "      <th>Avg Bearer TP UL (kbps)</th>\n",
       "    </tr>\n",
       "    <tr>\n",
       "      <th>MSISDN/Number</th>\n",
       "      <th></th>\n",
       "      <th></th>\n",
       "    </tr>\n",
       "  </thead>\n",
       "  <tbody>\n",
       "    <tr>\n",
       "      <th>33601001722.00</th>\n",
       "      <td>37.00</td>\n",
       "      <td>39.00</td>\n",
       "    </tr>\n",
       "    <tr>\n",
       "      <th>33601001754.00</th>\n",
       "      <td>48.00</td>\n",
       "      <td>51.00</td>\n",
       "    </tr>\n",
       "    <tr>\n",
       "      <th>33601002511.00</th>\n",
       "      <td>48.00</td>\n",
       "      <td>49.00</td>\n",
       "    </tr>\n",
       "    <tr>\n",
       "      <th>33601007832.00</th>\n",
       "      <td>204.00</td>\n",
       "      <td>44.00</td>\n",
       "    </tr>\n",
       "    <tr>\n",
       "      <th>33601008617.00</th>\n",
       "      <td>40395.00</td>\n",
       "      <td>16449.00</td>\n",
       "    </tr>\n",
       "  </tbody>\n",
       "</table>\n",
       "</div>"
      ],
      "text/plain": [
       "                Avg Bearer TP DL (kbps)  Avg Bearer TP UL (kbps)\n",
       "MSISDN/Number                                                   \n",
       "33601001722.00                    37.00                    39.00\n",
       "33601001754.00                    48.00                    51.00\n",
       "33601002511.00                    48.00                    49.00\n",
       "33601007832.00                   204.00                    44.00\n",
       "33601008617.00                 40395.00                 16449.00"
      ]
     },
     "execution_count": 6,
     "metadata": {},
     "output_type": "execute_result"
    }
   ],
   "source": [
    "avg_tp_uldl_columns = [\n",
    "    'Avg Bearer TP DL (kbps)',\n",
    "    'Avg Bearer TP UL (kbps)'\n",
    "]\n",
    "avg_tp_uldl = users_data[avg_tp_uldl_columns].sum()\n",
    "avg_tp_uldl.head()\n"
   ]
  },
  {
   "cell_type": "markdown",
   "metadata": {},
   "source": [
    "## 10 of the top, bottom and most frequent:\n",
    "\n",
    " - TCP values in the dataset. \n",
    " - RTT values in the dataset.\n",
    " - Throughput values in the dataset.\n"
   ]
  },
  {
   "cell_type": "code",
   "execution_count": 7,
   "metadata": {},
   "outputs": [
    {
     "name": "stdout",
     "output_type": "stream",
     "text": [
      "+++++++++++++++ TCP Values +++++++++++++++\n",
      "Top Ten TCP DL Retrans. Vol (Bytes):\n",
      "MSISDN/Number\n",
      "33667725464.00   8332732777.00\n",
      "33659084281.00   7938178623.00\n",
      "33660977522.00   7374100838.00\n",
      "33761284050.00   6039191773.00\n",
      "33762644658.00   5878002490.00\n",
      "33650658056.00   5590343967.00\n",
      "33663180885.00   5562845158.00\n",
      "33763572381.00   5178607391.00\n",
      "33658638625.00   5165784763.00\n",
      "33763859490.00   5094170807.00\n",
      "Name: TCP DL Retrans. Vol (Bytes), dtype: float64\n",
      "+++++++++++++++++++++++++++++++++++++++++++++\n",
      "Bottom Ten TCP DL Retrans. Vol (Bytes):\n",
      "MSISDN/Number\n",
      "33664535559.00   2.00\n",
      "33761543605.00   2.00\n",
      "33669309035.00   4.00\n",
      "33669328368.00   4.00\n",
      "33699002991.00   4.00\n",
      "33699060950.00   4.00\n",
      "33761506920.00   4.00\n",
      "33761544858.00   4.00\n",
      "33761619710.00   4.00\n",
      "33763938150.00   4.00\n",
      "Name: TCP DL Retrans. Vol (Bytes), dtype: float64\n",
      "+++++++++++++++++++++++++++++++++++++++++++++\n",
      "Most Frequent TCP DL Retrans. Vol (Bytes):\n",
      "0   21006808.73\n",
      "Name: TCP DL Retrans. Vol (Bytes), dtype: float64\n",
      "+++++++++++++++++++++++++++++++++++++++++++++\n",
      "+++++++++++++++ TCP Values +++++++++++++++\n",
      "Top Ten TCP UL Retrans. Vol (Bytes):\n",
      "MSISDN/Number\n",
      "33669054076.00   5169357738.81\n",
      "33658249284.00   2637302536.00\n",
      "33763588772.00   2455599840.00\n",
      "33664698321.00   1751383517.00\n",
      "33665090461.00   1727810000.00\n",
      "33760918898.00   1238635869.81\n",
      "33668333080.00    807925207.00\n",
      "33661679531.00    794825766.00\n",
      "33698382849.00    719571807.00\n",
      "33668446094.00    526246337.00\n",
      "Name: TCP UL Retrans. Vol (Bytes), dtype: float64\n",
      "+++++++++++++++++++++++++++++++++++++++++++++\n",
      "Bottom Ten TCP UL Retrans. Vol (Bytes):\n",
      "MSISDN/Number\n",
      "33642796046.00   1.00\n",
      "33668086182.00   1.00\n",
      "33782587773.00   1.00\n",
      "33635265913.00   2.00\n",
      "33659776438.00   2.00\n",
      "33699595309.00   2.00\n",
      "33607750620.00   3.00\n",
      "33611660332.00   3.00\n",
      "33614145722.00   3.00\n",
      "33627130922.00   3.00\n",
      "Name: TCP UL Retrans. Vol (Bytes), dtype: float64\n",
      "+++++++++++++++++++++++++++++++++++++++++++++\n",
      "Most Frequent TCP UL Retrans. Vol (Bytes):\n",
      "0   771051.81\n",
      "Name: TCP UL Retrans. Vol (Bytes), dtype: float64\n",
      "+++++++++++++++++++++++++++++++++++++++++++++\n"
     ]
    }
   ],
   "source": [
    "padding = '+'*15\n",
    "for column in avg_TCPr_uldl_vol.columns:\n",
    "    top_ten = avg_TCPr_uldl_vol[column].nlargest(10)\n",
    "    bottom_ten = avg_TCPr_uldl_vol[column].nsmallest(10)\n",
    "    most_frequent = avg_TCPr_uldl_vol[column].mode()\n",
    "    print(f\"{padding} TCP Values {padding}\")\n",
    "    print(f\"Top Ten {column}:\\n{top_ten}\\n{padding*3}\")\n",
    "    print(f\"Bottom Ten {column}:\\n{bottom_ten}\\n{padding*3}\")\n",
    "    print(f\"Most Frequent {column}:\\n{most_frequent}\\n{padding*3}\")"
   ]
  },
  {
   "cell_type": "markdown",
   "metadata": {},
   "source": [
    " - The distribution of the `average throughput`  **per** `handset type`\n",
    " - The `average TCP retransmission` view **per** `handset type`\n"
   ]
  },
  {
   "cell_type": "code",
   "execution_count": 8,
   "metadata": {},
   "outputs": [],
   "source": [
    "handsets_data = df.groupby('Handset Type')\n"
   ]
  },
  {
   "cell_type": "markdown",
   "metadata": {},
   "source": [
    "The `average throughput`"
   ]
  },
  {
   "cell_type": "code",
   "execution_count": 9,
   "metadata": {},
   "outputs": [
    {
     "data": {
      "text/plain": [
       "<AxesSubplot:xlabel='Handset Type'>"
      ]
     },
     "execution_count": 9,
     "metadata": {},
     "output_type": "execute_result"
    },
    {
     "data": {
      "image/png": "[encoded data removed]",
      "text/plain": [
       "<Figure size 432x288 with 1 Axes>"
      ]
     },
     "metadata": {
      "needs_background": "light"
     },
     "output_type": "display_data"
    }
   ],
   "source": [
    "handsets_tp = handsets_data[avg_tp_uldl_columns].mean().sum(axis=1)\n",
    "handsets_tp.plot()"
   ]
  },
  {
   "cell_type": "markdown",
   "metadata": {},
   "source": [
    "The `average TCP retransmission` "
   ]
  },
  {
   "cell_type": "code",
   "execution_count": 10,
   "metadata": {},
   "outputs": [
    {
     "data": {
      "text/plain": [
       "<AxesSubplot:xlabel='Handset Type'>"
      ]
     },
     "execution_count": 10,
     "metadata": {},
     "output_type": "execute_result"
    },
    {
     "data": {
      "image/png": "[encoded data removed]",
      "text/plain": [
       "<Figure size 432x288 with 1 Axes>"
      ]
     },
     "metadata": {
      "needs_background": "light"
     },
     "output_type": "display_data"
    }
   ],
   "source": [
    "handsets_rtt = handsets_data[avg_RTT_uldl_columns].mean().sum(axis=1)\n",
    "handsets_rtt.plot()"
   ]
  },
  {
   "cell_type": "code",
   "execution_count": 11,
   "metadata": {},
   "outputs": [
    {
     "data": {
      "text/plain": [
       "Handset Type\n",
       "Lg Lg-D315                                          54848.00\n",
       "Sfr Starxtrem5                                       9274.00\n",
       "Qingdao Hisense. Starxtrem 6                         5133.00\n",
       "Ecom Instruments. Ecom Mobile Safety Ex-Handy 209    4999.00\n",
       "Sony Ericsson E15I                                   3092.00\n",
       "dtype: float64"
      ]
     },
     "execution_count": 11,
     "metadata": {},
     "output_type": "execute_result"
    }
   ],
   "source": [
    "handsets_rtt.nlargest(5)"
   ]
  },
  {
   "cell_type": "markdown",
   "metadata": {},
   "source": [
    "The `Lg Lg-D315` looks to be having the worst experiance in terms of retransmissions.\n",
    "#### Check if it was an isolated incident."
   ]
  },
  {
   "cell_type": "code",
   "execution_count": 27,
   "metadata": {},
   "outputs": [
    {
     "name": "stdout",
     "output_type": "stream",
     "text": [
      "There is 1 'Lg Lg-D315' Users in the db\n",
      "12:25:31.150000\n"
     ]
    }
   ],
   "source": [
    "lg_user = df[df['Handset Type'] == 'Lg Lg-D315']\n",
    "print(f\"There is {len(lg_user)} 'Lg Lg-D315' Users in the db\")\n",
    "from datetime import timedelta\n",
    "session_duration = timedelta(milliseconds=lg_user['Dur. ms'].values[0])\n",
    "print(session_duration)"
   ]
  },
  {
   "cell_type": "markdown",
   "metadata": {},
   "source": [
    "# K-means clustering"
   ]
  },
  {
   "cell_type": "code",
   "execution_count": 33,
   "metadata": {},
   "outputs": [
    {
     "data": {
      "text/plain": [
       "MSISDN/Number\n",
       "33601001722.00          38.00\n",
       "33601001754.00          49.50\n",
       "33601002511.00          48.50\n",
       "33601007832.00         124.00\n",
       "33601008617.00       28422.00\n",
       "                       ...   \n",
       "33789996170.00        5182.50\n",
       "33789997247.00          58.00\n",
       "3197020876596.00         0.50\n",
       "337000037000919.00      16.50\n",
       "882397108489451.00       1.00\n",
       "Length: 106471, dtype: float64"
      ]
     },
     "execution_count": 33,
     "metadata": {},
     "output_type": "execute_result"
    }
   ],
   "source": []
  },
  {
   "cell_type": "code",
   "execution_count": 43,
   "metadata": {},
   "outputs": [
    {
     "name": "stdout",
     "output_type": "stream",
     "text": [
      "<class 'pandas.core.frame.DataFrame'>\n",
      "RangeIndex: 106471 entries, 0 to 106470\n",
      "Data columns (total 4 columns):\n",
      " #   Column          Non-Null Count   Dtype  \n",
      "---  ------          --------------   -----  \n",
      " 0   MSISDN/Number   106471 non-null  object \n",
      " 1   avg_RTT_ms      106471 non-null  float64\n",
      " 2   avg_TCPr_bytes  106471 non-null  float64\n",
      " 3   avg_tp_kbps     106471 non-null  float64\n",
      "dtypes: float64(3), object(1)\n",
      "memory usage: 3.2+ MB\n"
     ]
    }
   ],
   "source": [
    "avg_RTT = avg_RTT_uldl.sum(axis=1)\n",
    "avg_TCPr = avg_TCPr_uldl_vol.sum(axis=1)\n",
    "avg_tp = avg_tp_uldl.mean(axis=1)\n",
    "# features = [avg_RTT_uldl,\n",
    "#             avg_TCPr_uldl_vol,\n",
    "#             avg_tp_uldl\n",
    "#             ]\n",
    "experiance = {\n",
    "    'MSISDN/Number': avg_tp.index,\n",
    "    'avg_RTT_ms': avg_RTT.values,\n",
    "    'avg_TCPr_bytes': avg_TCPr.values,\n",
    "    'avg_tp_kbps': avg_tp.values\n",
    "    \n",
    "}\n",
    "\n",
    "user_experiance = pd.DataFrame(experiance)\n",
    "user_experiance = cleaner.fix_datatypes(user_experiance)\n",
    "user_experiance.info()"
   ]
  },
  {
   "cell_type": "code",
   "execution_count": 44,
   "metadata": {},
   "outputs": [],
   "source": [
    "# Pre-Process / Normalize\n",
    "norm_user_experiance = cleaner.normalize(user_experiance)"
   ]
  },
  {
   "cell_type": "code",
   "execution_count": 45,
   "metadata": {},
   "outputs": [
    {
     "data": {
      "text/plain": [
       "<seaborn.axisgrid.PairGrid at 0x7f97585872b0>"
      ]
     },
     "execution_count": 45,
     "metadata": {},
     "output_type": "execute_result"
    },
    {
     "data": {
      "image/png": "[encoded data removed]",
      "text/plain": [
       "<Figure size 540x540 with 9 Axes>"
      ]
     },
     "metadata": {
      "needs_background": "light"
     },
     "output_type": "display_data"
    }
   ],
   "source": [
    "g = sns.PairGrid(norm_user_experiance)\n",
    "g.map(sns.scatterplot)"
   ]
  },
  {
   "cell_type": "code",
   "execution_count": 46,
   "metadata": {},
   "outputs": [
    {
     "data": {
      "text/plain": [
       "(106471, 3)"
      ]
     },
     "execution_count": 46,
     "metadata": {},
     "output_type": "execute_result"
    }
   ],
   "source": [
    "X = np.array(norm_user_experiance)\n",
    "X.shape\n",
    "\n"
   ]
  },
  {
   "cell_type": "code",
   "execution_count": 50,
   "metadata": {},
   "outputs": [
    {
     "name": "stdout",
     "output_type": "stream",
     "text": [
      "model saved\n"
     ]
    },
    {
     "data": {
      "text/plain": [
       "array([0, 2, 1], dtype=int32)"
      ]
     },
     "execution_count": 50,
     "metadata": {},
     "output_type": "execute_result"
    }
   ],
   "source": [
    "kmeans = KMeans(n_clusters=3,\n",
    "                init='k-means++',\n",
    "                max_iter=300,\n",
    "                n_init=10,\n",
    "                random_state=10)\n",
    "model = kmeans.fit(X)\n",
    "with open(\"../models/experiance_clustering_model.pkl\", \"wb\") as f:\n",
    "    pickle.dump(model, f)\n",
    "    print(\"model saved\")\n",
    "\n",
    "user_experiance['clusters_by_experiance'] = model.predict(X)\n",
    "user_experiance['clusters_by_experiance'].unique()\n"
   ]
  },
  {
   "cell_type": "code",
   "execution_count": 48,
   "metadata": {},
   "outputs": [
    {
     "name": "stderr",
     "output_type": "stream",
     "text": [
      "/tmp/ipykernel_31380/3375685404.py:1: FutureWarning:\n",
      "\n",
      "['MSISDN/Number'] did not aggregate successfully. If any error is raised this will raise in a future version of pandas. Drop these columns/ops to avoid this warning.\n",
      "\n"
     ]
    },
    {
     "data": {
      "text/html": [
       "<div>\n",
       "<style scoped>\n",
       "    .dataframe tbody tr th:only-of-type {\n",
       "        vertical-align: middle;\n",
       "    }\n",
       "\n",
       "    .dataframe tbody tr th {\n",
       "        vertical-align: top;\n",
       "    }\n",
       "\n",
       "    .dataframe thead tr th {\n",
       "        text-align: left;\n",
       "    }\n",
       "\n",
       "    .dataframe thead tr:last-of-type th {\n",
       "        text-align: right;\n",
       "    }\n",
       "</style>\n",
       "<table border=\"1\" class=\"dataframe\">\n",
       "  <thead>\n",
       "    <tr>\n",
       "      <th></th>\n",
       "      <th colspan=\"7\" halign=\"left\">avg_RTT_ms</th>\n",
       "      <th colspan=\"7\" halign=\"left\">avg_TCPr_bytes</th>\n",
       "      <th colspan=\"7\" halign=\"left\">avg_tp_kbps</th>\n",
       "    </tr>\n",
       "    <tr>\n",
       "      <th></th>\n",
       "      <th>count</th>\n",
       "      <th>min</th>\n",
       "      <th>max</th>\n",
       "      <th>mean</th>\n",
       "      <th>sum</th>\n",
       "      <th>std</th>\n",
       "      <th>skew</th>\n",
       "      <th>count</th>\n",
       "      <th>min</th>\n",
       "      <th>max</th>\n",
       "      <th>mean</th>\n",
       "      <th>sum</th>\n",
       "      <th>std</th>\n",
       "      <th>skew</th>\n",
       "      <th>count</th>\n",
       "      <th>min</th>\n",
       "      <th>max</th>\n",
       "      <th>mean</th>\n",
       "      <th>sum</th>\n",
       "      <th>std</th>\n",
       "      <th>skew</th>\n",
       "    </tr>\n",
       "    <tr>\n",
       "      <th>clusters_by_experiance</th>\n",
       "      <th></th>\n",
       "      <th></th>\n",
       "      <th></th>\n",
       "      <th></th>\n",
       "      <th></th>\n",
       "      <th></th>\n",
       "      <th></th>\n",
       "      <th></th>\n",
       "      <th></th>\n",
       "      <th></th>\n",
       "      <th></th>\n",
       "      <th></th>\n",
       "      <th></th>\n",
       "      <th></th>\n",
       "      <th></th>\n",
       "      <th></th>\n",
       "      <th></th>\n",
       "      <th></th>\n",
       "      <th></th>\n",
       "      <th></th>\n",
       "      <th></th>\n",
       "    </tr>\n",
       "  </thead>\n",
       "  <tbody>\n",
       "    <tr>\n",
       "      <th>0</th>\n",
       "      <td>103351</td>\n",
       "      <td>0.00</td>\n",
       "      <td>96924.00</td>\n",
       "      <td>156.05</td>\n",
       "      <td>16128067.00</td>\n",
       "      <td>672.16</td>\n",
       "      <td>57.13</td>\n",
       "      <td>103351</td>\n",
       "      <td>466.00</td>\n",
       "      <td>8354209105.00</td>\n",
       "      <td>31291900.44</td>\n",
       "      <td>3234049202456.77</td>\n",
       "      <td>155858962.08</td>\n",
       "      <td>23.01</td>\n",
       "      <td>103351</td>\n",
       "      <td>0.00</td>\n",
       "      <td>451111.00</td>\n",
       "      <td>10231.44</td>\n",
       "      <td>1057429734.50</td>\n",
       "      <td>21301.76</td>\n",
       "      <td>4.03</td>\n",
       "    </tr>\n",
       "    <tr>\n",
       "      <th>1</th>\n",
       "      <td>1198</td>\n",
       "      <td>21.00</td>\n",
       "      <td>548.00</td>\n",
       "      <td>59.32</td>\n",
       "      <td>71065.00</td>\n",
       "      <td>44.67</td>\n",
       "      <td>4.95</td>\n",
       "      <td>1198</td>\n",
       "      <td>97.00</td>\n",
       "      <td>159132.00</td>\n",
       "      <td>8802.62</td>\n",
       "      <td>10545537.00</td>\n",
       "      <td>10014.48</td>\n",
       "      <td>4.61</td>\n",
       "      <td>1198</td>\n",
       "      <td>660.50</td>\n",
       "      <td>191435.50</td>\n",
       "      <td>20886.60</td>\n",
       "      <td>25022147.00</td>\n",
       "      <td>16558.91</td>\n",
       "      <td>2.34</td>\n",
       "    </tr>\n",
       "    <tr>\n",
       "      <th>2</th>\n",
       "      <td>1922</td>\n",
       "      <td>20.00</td>\n",
       "      <td>3940.00</td>\n",
       "      <td>78.06</td>\n",
       "      <td>150032.00</td>\n",
       "      <td>115.62</td>\n",
       "      <td>21.11</td>\n",
       "      <td>1922</td>\n",
       "      <td>182.00</td>\n",
       "      <td>631034.00</td>\n",
       "      <td>43293.30</td>\n",
       "      <td>83209722.00</td>\n",
       "      <td>47595.91</td>\n",
       "      <td>3.38</td>\n",
       "      <td>1922</td>\n",
       "      <td>84.50</td>\n",
       "      <td>161043.50</td>\n",
       "      <td>18552.91</td>\n",
       "      <td>35658695.50</td>\n",
       "      <td>17202.04</td>\n",
       "      <td>2.40</td>\n",
       "    </tr>\n",
       "  </tbody>\n",
       "</table>\n",
       "</div>"
      ],
      "text/plain": [
       "                       avg_RTT_ms                                                avg_TCPr_bytes                                                                      avg_tp_kbps                                                      \n",
       "                            count   min      max   mean         sum    std  skew          count    min           max        mean              sum          std  skew       count    min       max     mean           sum      std skew\n",
       "clusters_by_experiance                                                                                                                                                                                                                \n",
       "0                          103351  0.00 96924.00 156.05 16128067.00 672.16 57.13         103351 466.00 8354209105.00 31291900.44 3234049202456.77 155858962.08 23.01      103351   0.00 451111.00 10231.44 1057429734.50 21301.76 4.03\n",
       "1                            1198 21.00   548.00  59.32    71065.00  44.67  4.95           1198  97.00     159132.00     8802.62      10545537.00     10014.48  4.61        1198 660.50 191435.50 20886.60   25022147.00 16558.91 2.34\n",
       "2                            1922 20.00  3940.00  78.06   150032.00 115.62 21.11           1922 182.00     631034.00    43293.30      83209722.00     47595.91  3.38        1922  84.50 161043.50 18552.91   35658695.50 17202.04 2.40"
      ]
     },
     "execution_count": 48,
     "metadata": {},
     "output_type": "execute_result"
    }
   ],
   "source": [
    "user_experiance.groupby(\"clusters_by_experiance\").agg(['count', 'min', 'max', 'mean', 'sum', 'std', 'skew'])"
   ]
  },
  {
   "cell_type": "markdown",
   "metadata": {},
   "source": [
    "## Describe the above"
   ]
  },
  {
   "cell_type": "code",
   "execution_count": 49,
   "metadata": {},
   "outputs": [
    {
     "data": {
      "text/plain": [
       "(106471, 3)"
      ]
     },
     "execution_count": 49,
     "metadata": {},
     "output_type": "execute_result"
    }
   ],
   "source": [
    "X.shape"
   ]
  },
  {
   "cell_type": "code",
   "execution_count": null,
   "metadata": {},
   "outputs": [],
   "source": []
  }
 ],
 "metadata": {
  "interpreter": {
   "hash": "90f3c236e305caa67c4af5a9a2753b2aac1bde58c781ea8c901a63dcfe943b9f"
  },
  "kernelspec": {
   "display_name": "Python 3.10.4 ('venv': venv)",
   "language": "python",
   "name": "python3"
  },
  "language_info": {
   "codemirror_mode": {
    "name": "ipython",
    "version": 3
   },
   "file_extension": ".py",
   "mimetype": "text/x-python",
   "name": "python",
   "nbconvert_exporter": "python",
   "pygments_lexer": "ipython3",
   "version": "3.10.4"
  },
  "orig_nbformat": 4
 },
 "nbformat": 4,
 "nbformat_minor": 2
}
