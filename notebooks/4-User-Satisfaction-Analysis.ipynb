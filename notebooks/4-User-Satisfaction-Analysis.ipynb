{
 "cells": [
  {
   "cell_type": "code",
   "execution_count": 1,
   "metadata": {},
   "outputs": [],
   "source": [
    "%%capture\n",
    "%run \"./3-User-Experience-Analysis.ipynb\""
   ]
  },
  {
   "cell_type": "code",
   "execution_count": 2,
   "metadata": {},
   "outputs": [
    {
     "data": {
      "text/html": [
       "<div>\n",
       "<style scoped>\n",
       "    .dataframe tbody tr th:only-of-type {\n",
       "        vertical-align: middle;\n",
       "    }\n",
       "\n",
       "    .dataframe tbody tr th {\n",
       "        vertical-align: top;\n",
       "    }\n",
       "\n",
       "    .dataframe thead th {\n",
       "        text-align: right;\n",
       "    }\n",
       "</style>\n",
       "<table border=\"1\" class=\"dataframe\">\n",
       "  <thead>\n",
       "    <tr style=\"text-align: right;\">\n",
       "      <th></th>\n",
       "      <th>MSISDN/Number</th>\n",
       "      <th>avg_RTT_ms</th>\n",
       "      <th>avg_TCPr_bytes</th>\n",
       "      <th>avg_tp_kbps</th>\n",
       "      <th>clusters_by_experiance</th>\n",
       "    </tr>\n",
       "  </thead>\n",
       "  <tbody>\n",
       "    <tr>\n",
       "      <th>0</th>\n",
       "      <td>33601001722.0</td>\n",
       "      <td>46.00</td>\n",
       "      <td>21777860.54</td>\n",
       "      <td>38.00</td>\n",
       "      <td>0</td>\n",
       "    </tr>\n",
       "    <tr>\n",
       "      <th>1</th>\n",
       "      <td>33601001754.0</td>\n",
       "      <td>31.00</td>\n",
       "      <td>21777860.54</td>\n",
       "      <td>49.50</td>\n",
       "      <td>0</td>\n",
       "    </tr>\n",
       "    <tr>\n",
       "      <th>2</th>\n",
       "      <td>33601002511.0</td>\n",
       "      <td>50.00</td>\n",
       "      <td>21777860.54</td>\n",
       "      <td>48.50</td>\n",
       "      <td>0</td>\n",
       "    </tr>\n",
       "    <tr>\n",
       "      <th>3</th>\n",
       "      <td>33601007832.0</td>\n",
       "      <td>84.00</td>\n",
       "      <td>772117.81</td>\n",
       "      <td>124.00</td>\n",
       "      <td>0</td>\n",
       "    </tr>\n",
       "    <tr>\n",
       "      <th>4</th>\n",
       "      <td>33601008617.0</td>\n",
       "      <td>119.00</td>\n",
       "      <td>31148692.54</td>\n",
       "      <td>28422.00</td>\n",
       "      <td>0</td>\n",
       "    </tr>\n",
       "  </tbody>\n",
       "</table>\n",
       "</div>"
      ],
      "text/plain": [
       "   MSISDN/Number  avg_RTT_ms  avg_TCPr_bytes  avg_tp_kbps  clusters_by_experiance\n",
       "0  33601001722.0       46.00     21777860.54        38.00                       0\n",
       "1  33601001754.0       31.00     21777860.54        49.50                       0\n",
       "2  33601002511.0       50.00     21777860.54        48.50                       0\n",
       "3  33601007832.0       84.00       772117.81       124.00                       0\n",
       "4  33601008617.0      119.00     31148692.54     28422.00                       0"
      ]
     },
     "metadata": {},
     "output_type": "display_data"
    },
    {
     "data": {
      "text/html": [
       "<div>\n",
       "<style scoped>\n",
       "    .dataframe tbody tr th:only-of-type {\n",
       "        vertical-align: middle;\n",
       "    }\n",
       "\n",
       "    .dataframe tbody tr th {\n",
       "        vertical-align: top;\n",
       "    }\n",
       "\n",
       "    .dataframe thead th {\n",
       "        text-align: right;\n",
       "    }\n",
       "</style>\n",
       "<table border=\"1\" class=\"dataframe\">\n",
       "  <thead>\n",
       "    <tr style=\"text-align: right;\">\n",
       "      <th></th>\n",
       "      <th>MSISDN</th>\n",
       "      <th>session_freq</th>\n",
       "      <th>session_duration</th>\n",
       "      <th>session_data_volume</th>\n",
       "      <th>clusters_by_engagement</th>\n",
       "    </tr>\n",
       "  </thead>\n",
       "  <tbody>\n",
       "    <tr>\n",
       "      <th>0</th>\n",
       "      <td>33614892860.0</td>\n",
       "      <td>17</td>\n",
       "      <td>9966905758.00</td>\n",
       "      <td>16341524035.00</td>\n",
       "      <td>1</td>\n",
       "    </tr>\n",
       "    <tr>\n",
       "      <th>1</th>\n",
       "      <td>33626320676.0</td>\n",
       "      <td>18</td>\n",
       "      <td>8791936680.00</td>\n",
       "      <td>15996644092.00</td>\n",
       "      <td>1</td>\n",
       "    </tr>\n",
       "    <tr>\n",
       "      <th>2</th>\n",
       "      <td>33625779332.0</td>\n",
       "      <td>17</td>\n",
       "      <td>18553763486.00</td>\n",
       "      <td>14701273330.00</td>\n",
       "      <td>1</td>\n",
       "    </tr>\n",
       "    <tr>\n",
       "      <th>3</th>\n",
       "      <td>33675877202.0</td>\n",
       "      <td>15</td>\n",
       "      <td>4865953827.00</td>\n",
       "      <td>14556184322.00</td>\n",
       "      <td>2</td>\n",
       "    </tr>\n",
       "    <tr>\n",
       "      <th>4</th>\n",
       "      <td>33659725664.0</td>\n",
       "      <td>16</td>\n",
       "      <td>4035436251.00</td>\n",
       "      <td>13888413360.00</td>\n",
       "      <td>2</td>\n",
       "    </tr>\n",
       "  </tbody>\n",
       "</table>\n",
       "</div>"
      ],
      "text/plain": [
       "          MSISDN  session_freq  session_duration  session_data_volume  clusters_by_engagement\n",
       "0  33614892860.0            17     9966905758.00       16341524035.00                       1\n",
       "1  33626320676.0            18     8791936680.00       15996644092.00                       1\n",
       "2  33625779332.0            17    18553763486.00       14701273330.00                       1\n",
       "3  33675877202.0            15     4865953827.00       14556184322.00                       2\n",
       "4  33659725664.0            16     4035436251.00       13888413360.00                       2"
      ]
     },
     "metadata": {},
     "output_type": "display_data"
    }
   ],
   "source": [
    "display(user_experiance.head())\n",
    "display(user_engagment.head())"
   ]
  },
  {
   "cell_type": "code",
   "execution_count": 3,
   "metadata": {},
   "outputs": [
    {
     "data": {
      "text/html": [
       "<div>\n",
       "<style scoped>\n",
       "    .dataframe tbody tr th:only-of-type {\n",
       "        vertical-align: middle;\n",
       "    }\n",
       "\n",
       "    .dataframe tbody tr th {\n",
       "        vertical-align: top;\n",
       "    }\n",
       "\n",
       "    .dataframe thead th {\n",
       "        text-align: right;\n",
       "    }\n",
       "</style>\n",
       "<table border=\"1\" class=\"dataframe\">\n",
       "  <thead>\n",
       "    <tr style=\"text-align: right;\">\n",
       "      <th></th>\n",
       "      <th>session_freq</th>\n",
       "      <th>session_duration</th>\n",
       "      <th>session_data_volume</th>\n",
       "    </tr>\n",
       "    <tr>\n",
       "      <th>clusters_by_engagement</th>\n",
       "      <th></th>\n",
       "      <th></th>\n",
       "      <th></th>\n",
       "    </tr>\n",
       "  </thead>\n",
       "  <tbody>\n",
       "    <tr>\n",
       "      <th>0</th>\n",
       "      <td>105294</td>\n",
       "      <td>8031876008751.00</td>\n",
       "      <td>104599314454748.00</td>\n",
       "    </tr>\n",
       "    <tr>\n",
       "      <th>1</th>\n",
       "      <td>5145</td>\n",
       "      <td>1431625816443.00</td>\n",
       "      <td>2549745395204.00</td>\n",
       "    </tr>\n",
       "    <tr>\n",
       "      <th>2</th>\n",
       "      <td>38067</td>\n",
       "      <td>6142191870908.00</td>\n",
       "      <td>29021418483542.00</td>\n",
       "    </tr>\n",
       "  </tbody>\n",
       "</table>\n",
       "</div>"
      ],
      "text/plain": [
       "                        session_freq  session_duration  session_data_volume\n",
       "clusters_by_engagement                                                     \n",
       "0                             105294  8031876008751.00   104599314454748.00\n",
       "1                               5145  1431625816443.00     2549745395204.00\n",
       "2                              38067  6142191870908.00    29021418483542.00"
      ]
     },
     "execution_count": 3,
     "metadata": {},
     "output_type": "execute_result"
    }
   ],
   "source": [
    "user_engagment.groupby('clusters_by_engagement').sum()"
   ]
  },
  {
   "cell_type": "markdown",
   "metadata": {},
   "source": [
    "Least enaged cluster is `1`"
   ]
  },
  {
   "cell_type": "code",
   "execution_count": 4,
   "metadata": {},
   "outputs": [],
   "source": [
    "least_engaged_center = engagement_model.cluster_centers_[1]\n",
    "# least_engaged_center"
   ]
  },
  {
   "cell_type": "code",
   "execution_count": 5,
   "metadata": {},
   "outputs": [
    {
     "data": {
      "text/html": [
       "<div>\n",
       "<style scoped>\n",
       "    .dataframe tbody tr th:only-of-type {\n",
       "        vertical-align: middle;\n",
       "    }\n",
       "\n",
       "    .dataframe tbody tr th {\n",
       "        vertical-align: top;\n",
       "    }\n",
       "\n",
       "    .dataframe thead tr th {\n",
       "        text-align: left;\n",
       "    }\n",
       "\n",
       "    .dataframe thead tr:last-of-type th {\n",
       "        text-align: right;\n",
       "    }\n",
       "</style>\n",
       "<table border=\"1\" class=\"dataframe\">\n",
       "  <thead>\n",
       "    <tr>\n",
       "      <th></th>\n",
       "      <th colspan=\"8\" halign=\"left\">avg_RTT_ms</th>\n",
       "      <th colspan=\"8\" halign=\"left\">avg_TCPr_bytes</th>\n",
       "      <th colspan=\"8\" halign=\"left\">avg_tp_kbps</th>\n",
       "    </tr>\n",
       "    <tr>\n",
       "      <th></th>\n",
       "      <th>count</th>\n",
       "      <th>mean</th>\n",
       "      <th>std</th>\n",
       "      <th>min</th>\n",
       "      <th>25%</th>\n",
       "      <th>50%</th>\n",
       "      <th>75%</th>\n",
       "      <th>max</th>\n",
       "      <th>count</th>\n",
       "      <th>mean</th>\n",
       "      <th>std</th>\n",
       "      <th>min</th>\n",
       "      <th>25%</th>\n",
       "      <th>50%</th>\n",
       "      <th>75%</th>\n",
       "      <th>max</th>\n",
       "      <th>count</th>\n",
       "      <th>mean</th>\n",
       "      <th>std</th>\n",
       "      <th>min</th>\n",
       "      <th>25%</th>\n",
       "      <th>50%</th>\n",
       "      <th>75%</th>\n",
       "      <th>max</th>\n",
       "    </tr>\n",
       "    <tr>\n",
       "      <th>clusters_by_experiance</th>\n",
       "      <th></th>\n",
       "      <th></th>\n",
       "      <th></th>\n",
       "      <th></th>\n",
       "      <th></th>\n",
       "      <th></th>\n",
       "      <th></th>\n",
       "      <th></th>\n",
       "      <th></th>\n",
       "      <th></th>\n",
       "      <th></th>\n",
       "      <th></th>\n",
       "      <th></th>\n",
       "      <th></th>\n",
       "      <th></th>\n",
       "      <th></th>\n",
       "      <th></th>\n",
       "      <th></th>\n",
       "      <th></th>\n",
       "      <th></th>\n",
       "      <th></th>\n",
       "      <th></th>\n",
       "      <th></th>\n",
       "      <th></th>\n",
       "    </tr>\n",
       "  </thead>\n",
       "  <tbody>\n",
       "    <tr>\n",
       "      <th>0</th>\n",
       "      <td>103351.00</td>\n",
       "      <td>156.05</td>\n",
       "      <td>672.16</td>\n",
       "      <td>0.00</td>\n",
       "      <td>48.00</td>\n",
       "      <td>60.00</td>\n",
       "      <td>118.00</td>\n",
       "      <td>96924.00</td>\n",
       "      <td>103351.00</td>\n",
       "      <td>31291900.44</td>\n",
       "      <td>155858962.08</td>\n",
       "      <td>466.00</td>\n",
       "      <td>14964291.50</td>\n",
       "      <td>21777860.54</td>\n",
       "      <td>21822200.04</td>\n",
       "      <td>8354209105.00</td>\n",
       "      <td>103351.00</td>\n",
       "      <td>10231.44</td>\n",
       "      <td>21301.76</td>\n",
       "      <td>0.00</td>\n",
       "      <td>48.00</td>\n",
       "      <td>116.00</td>\n",
       "      <td>12326.75</td>\n",
       "      <td>451111.00</td>\n",
       "    </tr>\n",
       "    <tr>\n",
       "      <th>1</th>\n",
       "      <td>1198.00</td>\n",
       "      <td>59.32</td>\n",
       "      <td>44.67</td>\n",
       "      <td>21.00</td>\n",
       "      <td>39.00</td>\n",
       "      <td>48.00</td>\n",
       "      <td>61.00</td>\n",
       "      <td>548.00</td>\n",
       "      <td>1198.00</td>\n",
       "      <td>8802.62</td>\n",
       "      <td>10014.48</td>\n",
       "      <td>97.00</td>\n",
       "      <td>2752.00</td>\n",
       "      <td>5767.50</td>\n",
       "      <td>11281.00</td>\n",
       "      <td>159132.00</td>\n",
       "      <td>1198.00</td>\n",
       "      <td>20886.60</td>\n",
       "      <td>16558.91</td>\n",
       "      <td>660.50</td>\n",
       "      <td>9342.62</td>\n",
       "      <td>16595.00</td>\n",
       "      <td>27022.25</td>\n",
       "      <td>191435.50</td>\n",
       "    </tr>\n",
       "    <tr>\n",
       "      <th>2</th>\n",
       "      <td>1922.00</td>\n",
       "      <td>78.06</td>\n",
       "      <td>115.62</td>\n",
       "      <td>20.00</td>\n",
       "      <td>44.00</td>\n",
       "      <td>55.00</td>\n",
       "      <td>78.00</td>\n",
       "      <td>3940.00</td>\n",
       "      <td>1922.00</td>\n",
       "      <td>43293.30</td>\n",
       "      <td>47595.91</td>\n",
       "      <td>182.00</td>\n",
       "      <td>13464.25</td>\n",
       "      <td>28930.50</td>\n",
       "      <td>56035.75</td>\n",
       "      <td>631034.00</td>\n",
       "      <td>1922.00</td>\n",
       "      <td>18552.91</td>\n",
       "      <td>17202.04</td>\n",
       "      <td>84.50</td>\n",
       "      <td>6829.00</td>\n",
       "      <td>14124.25</td>\n",
       "      <td>24626.12</td>\n",
       "      <td>161043.50</td>\n",
       "    </tr>\n",
       "  </tbody>\n",
       "</table>\n",
       "</div>"
      ],
      "text/plain": [
       "                       avg_RTT_ms                                                 avg_TCPr_bytes                                                                                   avg_tp_kbps                                                             \n",
       "                            count   mean    std   min   25%   50%    75%      max          count        mean          std    min         25%         50%         75%           max       count     mean      std    min     25%      50%      75%       max\n",
       "clusters_by_experiance                                                                                                                                                                                                                                     \n",
       "0                       103351.00 156.05 672.16  0.00 48.00 60.00 118.00 96924.00      103351.00 31291900.44 155858962.08 466.00 14964291.50 21777860.54 21822200.04 8354209105.00   103351.00 10231.44 21301.76   0.00   48.00   116.00 12326.75 451111.00\n",
       "1                         1198.00  59.32  44.67 21.00 39.00 48.00  61.00   548.00        1198.00     8802.62     10014.48  97.00     2752.00     5767.50    11281.00     159132.00     1198.00 20886.60 16558.91 660.50 9342.62 16595.00 27022.25 191435.50\n",
       "2                         1922.00  78.06 115.62 20.00 44.00 55.00  78.00  3940.00        1922.00    43293.30     47595.91 182.00    13464.25    28930.50    56035.75     631034.00     1922.00 18552.91 17202.04  84.50 6829.00 14124.25 24626.12 161043.50"
      ]
     },
     "execution_count": 5,
     "metadata": {},
     "output_type": "execute_result"
    }
   ],
   "source": [
    "user_experiance.groupby('clusters_by_experiance').describe()\n"
   ]
  },
  {
   "cell_type": "markdown",
   "metadata": {},
   "source": [
    "I am choosing cluster `0` as the cluster with the worst experiance. The RTT and TCP retransmission volums are very high than the other two. There are a lot more users in that cluster. They also have the lowest maan TP. \n",
    "\n",
    "**note to self: Find a better (more definate) way to make these decision.**"
   ]
  },
  {
   "cell_type": "code",
   "execution_count": 6,
   "metadata": {},
   "outputs": [],
   "source": [
    "worst_exp_center = experiance_model.cluster_centers_[0]"
   ]
  },
  {
   "cell_type": "markdown",
   "metadata": {},
   "source": [
    "## Get the euclidian distance between the chosen centers and each point"
   ]
  },
  {
   "cell_type": "code",
   "execution_count": 7,
   "metadata": {},
   "outputs": [],
   "source": [
    "from sklearn.metrics.pairwise import euclidean_distances\n",
    "def get_score(features: np.array, center: np.array) -> np.array:\n",
    "    scores = euclidean_distances(features, center.reshape(1, -1))\n",
    "    return scores"
   ]
  },
  {
   "cell_type": "code",
   "execution_count": 8,
   "metadata": {},
   "outputs": [
    {
     "data": {
      "text/html": [
       "<div>\n",
       "<style scoped>\n",
       "    .dataframe tbody tr th:only-of-type {\n",
       "        vertical-align: middle;\n",
       "    }\n",
       "\n",
       "    .dataframe tbody tr th {\n",
       "        vertical-align: top;\n",
       "    }\n",
       "\n",
       "    .dataframe thead th {\n",
       "        text-align: right;\n",
       "    }\n",
       "</style>\n",
       "<table border=\"1\" class=\"dataframe\">\n",
       "  <thead>\n",
       "    <tr style=\"text-align: right;\">\n",
       "      <th></th>\n",
       "      <th>session_freq</th>\n",
       "      <th>session_duration</th>\n",
       "      <th>session_data_volume</th>\n",
       "    </tr>\n",
       "  </thead>\n",
       "  <tbody>\n",
       "    <tr>\n",
       "      <th>0</th>\n",
       "      <td>0.00</td>\n",
       "      <td>0.52</td>\n",
       "      <td>0.85</td>\n",
       "    </tr>\n",
       "    <tr>\n",
       "      <th>1</th>\n",
       "      <td>0.00</td>\n",
       "      <td>0.48</td>\n",
       "      <td>0.88</td>\n",
       "    </tr>\n",
       "    <tr>\n",
       "      <th>2</th>\n",
       "      <td>0.00</td>\n",
       "      <td>0.78</td>\n",
       "      <td>0.62</td>\n",
       "    </tr>\n",
       "    <tr>\n",
       "      <th>3</th>\n",
       "      <td>0.00</td>\n",
       "      <td>0.32</td>\n",
       "      <td>0.95</td>\n",
       "    </tr>\n",
       "    <tr>\n",
       "      <th>4</th>\n",
       "      <td>0.00</td>\n",
       "      <td>0.28</td>\n",
       "      <td>0.96</td>\n",
       "    </tr>\n",
       "  </tbody>\n",
       "</table>\n",
       "</div>"
      ],
      "text/plain": [
       "   session_freq  session_duration  session_data_volume\n",
       "0          0.00              0.52                 0.85\n",
       "1          0.00              0.48                 0.88\n",
       "2          0.00              0.78                 0.62\n",
       "3          0.00              0.32                 0.95\n",
       "4          0.00              0.28                 0.96"
      ]
     },
     "execution_count": 8,
     "metadata": {},
     "output_type": "execute_result"
    }
   ],
   "source": [
    "norm_user_engagment.head()"
   ]
  },
  {
   "cell_type": "markdown",
   "metadata": {},
   "source": [
    "The session_freq seems zero. But it's not. It being truncated when printing because of a pandas setting I am using. "
   ]
  },
  {
   "cell_type": "code",
   "execution_count": 9,
   "metadata": {},
   "outputs": [
    {
     "name": "stdout",
     "output_type": "stream",
     "text": [
      "[[8.88137699e-10 5.20704985e-01 8.53736680e-01]\n",
      " [9.86111497e-10 4.81657213e-01 8.76359703e-01]]\n",
      "[[2.11223687e-06 1.00000000e+00 1.74489133e-06]\n",
      " [1.42346398e-06 1.00000000e+00 2.27295055e-06]]\n"
     ]
    }
   ],
   "source": [
    "engagement_features = norm_user_engagment.to_numpy()\n",
    "print(engagement_features[:2])\n",
    "experiance_features = norm_user_experiance.to_numpy()\n",
    "print(experiance_features[:2])"
   ]
  },
  {
   "cell_type": "code",
   "execution_count": 10,
   "metadata": {},
   "outputs": [
    {
     "name": "stdout",
     "output_type": "stream",
     "text": [
      "(106471, 1)\n",
      "(106471, 1)\n"
     ]
    }
   ],
   "source": [
    "engagement_scores = get_score(engagement_features, least_engaged_center)\n",
    "print(engagement_scores.shape)\n",
    "experiance_scores = get_score(experiance_features, worst_exp_center)\n",
    "print(experiance_scores.shape)\n",
    "\n"
   ]
  },
  {
   "cell_type": "code",
   "execution_count": 11,
   "metadata": {},
   "outputs": [
    {
     "name": "stdout",
     "output_type": "stream",
     "text": [
      "(106471, 3)\n"
     ]
    }
   ],
   "source": [
    "print(experiance_features.shape)"
   ]
  },
  {
   "cell_type": "code",
   "execution_count": 12,
   "metadata": {},
   "outputs": [],
   "source": [
    "user_engagment['engaement_score'] = engagement_scores\n",
    "user_experiance['experiance_score'] = experiance_scores\n"
   ]
  },
  {
   "cell_type": "code",
   "execution_count": 13,
   "metadata": {},
   "outputs": [
    {
     "data": {
      "text/plain": [
       "array([[0.01602863],\n",
       "       [0.01606504],\n",
       "       [0.18889281],\n",
       "       ...,\n",
       "       [0.18528583],\n",
       "       [0.19637926],\n",
       "       [0.26637801]])"
      ]
     },
     "execution_count": 13,
     "metadata": {},
     "output_type": "execute_result"
    }
   ],
   "source": [
    "satisfaction_score = np.mean(np.array([engagement_scores, experiance_scores]), axis=0)\n",
    "satisfaction_score"
   ]
  },
  {
   "cell_type": "code",
   "execution_count": 14,
   "metadata": {},
   "outputs": [
    {
     "data": {
      "text/html": [
       "<div>\n",
       "<style scoped>\n",
       "    .dataframe tbody tr th:only-of-type {\n",
       "        vertical-align: middle;\n",
       "    }\n",
       "\n",
       "    .dataframe tbody tr th {\n",
       "        vertical-align: top;\n",
       "    }\n",
       "\n",
       "    .dataframe thead th {\n",
       "        text-align: right;\n",
       "    }\n",
       "</style>\n",
       "<table border=\"1\" class=\"dataframe\">\n",
       "  <thead>\n",
       "    <tr style=\"text-align: right;\">\n",
       "      <th></th>\n",
       "      <th>MSISDN/Number</th>\n",
       "      <th>avg_RTT_ms</th>\n",
       "      <th>avg_TCPr_bytes</th>\n",
       "      <th>avg_tp_kbps</th>\n",
       "      <th>session_freq</th>\n",
       "      <th>session_duration</th>\n",
       "      <th>session_data_volume</th>\n",
       "      <th>satisfaction_score</th>\n",
       "    </tr>\n",
       "  </thead>\n",
       "  <tbody>\n",
       "    <tr>\n",
       "      <th>0</th>\n",
       "      <td>33601001722.0</td>\n",
       "      <td>46.00</td>\n",
       "      <td>21777860.54</td>\n",
       "      <td>38.00</td>\n",
       "      <td>17</td>\n",
       "      <td>9966905758.00</td>\n",
       "      <td>16341524035.00</td>\n",
       "      <td>0.02</td>\n",
       "    </tr>\n",
       "    <tr>\n",
       "      <th>1</th>\n",
       "      <td>33601001754.0</td>\n",
       "      <td>31.00</td>\n",
       "      <td>21777860.54</td>\n",
       "      <td>49.50</td>\n",
       "      <td>18</td>\n",
       "      <td>8791936680.00</td>\n",
       "      <td>15996644092.00</td>\n",
       "      <td>0.02</td>\n",
       "    </tr>\n",
       "    <tr>\n",
       "      <th>2</th>\n",
       "      <td>33601002511.0</td>\n",
       "      <td>50.00</td>\n",
       "      <td>21777860.54</td>\n",
       "      <td>48.50</td>\n",
       "      <td>17</td>\n",
       "      <td>18553763486.00</td>\n",
       "      <td>14701273330.00</td>\n",
       "      <td>0.19</td>\n",
       "    </tr>\n",
       "    <tr>\n",
       "      <th>3</th>\n",
       "      <td>33601007832.0</td>\n",
       "      <td>84.00</td>\n",
       "      <td>772117.81</td>\n",
       "      <td>124.00</td>\n",
       "      <td>15</td>\n",
       "      <td>4865953827.00</td>\n",
       "      <td>14556184322.00</td>\n",
       "      <td>0.10</td>\n",
       "    </tr>\n",
       "    <tr>\n",
       "      <th>4</th>\n",
       "      <td>33601008617.0</td>\n",
       "      <td>119.00</td>\n",
       "      <td>31148692.54</td>\n",
       "      <td>28422.00</td>\n",
       "      <td>16</td>\n",
       "      <td>4035436251.00</td>\n",
       "      <td>13888413360.00</td>\n",
       "      <td>0.12</td>\n",
       "    </tr>\n",
       "  </tbody>\n",
       "</table>\n",
       "</div>"
      ],
      "text/plain": [
       "   MSISDN/Number  avg_RTT_ms  avg_TCPr_bytes  avg_tp_kbps  session_freq  session_duration  session_data_volume  satisfaction_score\n",
       "0  33601001722.0       46.00     21777860.54        38.00            17     9966905758.00       16341524035.00                0.02\n",
       "1  33601001754.0       31.00     21777860.54        49.50            18     8791936680.00       15996644092.00                0.02\n",
       "2  33601002511.0       50.00     21777860.54        48.50            17    18553763486.00       14701273330.00                0.19\n",
       "3  33601007832.0       84.00       772117.81       124.00            15     4865953827.00       14556184322.00                0.10\n",
       "4  33601008617.0      119.00     31148692.54     28422.00            16     4035436251.00       13888413360.00                0.12"
      ]
     },
     "execution_count": 14,
     "metadata": {},
     "output_type": "execute_result"
    }
   ],
   "source": [
    "scored_user_data = pd.DataFrame()\n",
    "\n",
    "for col in user_experiance.columns[:-2]:\n",
    "    scored_user_data[col] = user_experiance[col].values\n",
    "for col in user_engagment.columns[1:-2]:\n",
    "    scored_user_data[col] = user_engagment[col].values\n",
    "scored_user_data['satisfaction_score'] = satisfaction_score\n",
    "scored_user_data.head()"
   ]
  },
  {
   "cell_type": "code",
   "execution_count": 15,
   "metadata": {},
   "outputs": [
    {
     "data": {
      "text/plain": [
       "count   106471.00\n",
       "mean         0.21\n",
       "std          0.08\n",
       "min          0.01\n",
       "25%          0.19\n",
       "50%          0.21\n",
       "75%          0.24\n",
       "max          0.95\n",
       "Name: satisfaction_score, dtype: float64"
      ]
     },
     "execution_count": 15,
     "metadata": {},
     "output_type": "execute_result"
    }
   ],
   "source": [
    "scored_user_data['satisfaction_score'].describe()"
   ]
  },
  {
   "cell_type": "markdown",
   "metadata": {},
   "source": [
    "looking at the percentiles, most users don't seem to be satisfied by the services they are getting."
   ]
  },
  {
   "cell_type": "code",
   "execution_count": 16,
   "metadata": {},
   "outputs": [
    {
     "data": {
      "text/plain": [
       "<AxesSubplot:title={'center':'Histogram of the user satisfaction score'}, ylabel='Frequency'>"
      ]
     },
     "execution_count": 16,
     "metadata": {},
     "output_type": "execute_result"
    },
    {
     "data": {
      "image/png": "[encoded data removed]",
      "text/plain": [
       "<Figure size 432x288 with 1 Axes>"
      ]
     },
     "metadata": {
      "needs_background": "light"
     },
     "output_type": "display_data"
    }
   ],
   "source": [
    "scored_user_data['satisfaction_score'].plot.hist(title=\"Histogram of the user satisfaction score\", fontsize=20)\n",
    "# plotter.plot_count(scored_user_data, 'satisfaction_score')"
   ]
  },
  {
   "cell_type": "markdown",
   "metadata": {},
   "source": [
    "### top 10 satisfied customer "
   ]
  },
  {
   "cell_type": "code",
   "execution_count": 17,
   "metadata": {},
   "outputs": [
    {
     "data": {
      "text/html": [
       "<div>\n",
       "<style scoped>\n",
       "    .dataframe tbody tr th:only-of-type {\n",
       "        vertical-align: middle;\n",
       "    }\n",
       "\n",
       "    .dataframe tbody tr th {\n",
       "        vertical-align: top;\n",
       "    }\n",
       "\n",
       "    .dataframe thead th {\n",
       "        text-align: right;\n",
       "    }\n",
       "</style>\n",
       "<table border=\"1\" class=\"dataframe\">\n",
       "  <thead>\n",
       "    <tr style=\"text-align: right;\">\n",
       "      <th></th>\n",
       "      <th>MSISDN/Number</th>\n",
       "      <th>avg_RTT_ms</th>\n",
       "      <th>avg_TCPr_bytes</th>\n",
       "      <th>avg_tp_kbps</th>\n",
       "      <th>session_freq</th>\n",
       "      <th>session_duration</th>\n",
       "      <th>session_data_volume</th>\n",
       "      <th>satisfaction_score</th>\n",
       "    </tr>\n",
       "  </thead>\n",
       "  <tbody>\n",
       "    <tr>\n",
       "      <th>0</th>\n",
       "      <td>33607833304.0</td>\n",
       "      <td>32.00</td>\n",
       "      <td>143.00</td>\n",
       "      <td>8426.50</td>\n",
       "      <td>4</td>\n",
       "      <td>66595562.00</td>\n",
       "      <td>3785411332.00</td>\n",
       "      <td>0.95</td>\n",
       "    </tr>\n",
       "    <tr>\n",
       "      <th>1</th>\n",
       "      <td>33679366089.0</td>\n",
       "      <td>39.00</td>\n",
       "      <td>179.00</td>\n",
       "      <td>17534.00</td>\n",
       "      <td>1</td>\n",
       "      <td>24480059.00</td>\n",
       "      <td>797352274.00</td>\n",
       "      <td>0.94</td>\n",
       "    </tr>\n",
       "    <tr>\n",
       "      <th>2</th>\n",
       "      <td>33661931340.0</td>\n",
       "      <td>28.00</td>\n",
       "      <td>2774.00</td>\n",
       "      <td>74036.00</td>\n",
       "      <td>1</td>\n",
       "      <td>28087571.00</td>\n",
       "      <td>1171921249.00</td>\n",
       "      <td>0.94</td>\n",
       "    </tr>\n",
       "    <tr>\n",
       "      <th>3</th>\n",
       "      <td>33698217663.0</td>\n",
       "      <td>57.00</td>\n",
       "      <td>425.00</td>\n",
       "      <td>10876.00</td>\n",
       "      <td>1</td>\n",
       "      <td>16782322.00</td>\n",
       "      <td>709717038.00</td>\n",
       "      <td>0.94</td>\n",
       "    </tr>\n",
       "    <tr>\n",
       "      <th>4</th>\n",
       "      <td>33637975112.0</td>\n",
       "      <td>37.00</td>\n",
       "      <td>2229.00</td>\n",
       "      <td>79960.00</td>\n",
       "      <td>2</td>\n",
       "      <td>64677952.00</td>\n",
       "      <td>1790294382.00</td>\n",
       "      <td>0.94</td>\n",
       "    </tr>\n",
       "    <tr>\n",
       "      <th>5</th>\n",
       "      <td>33665472384.0</td>\n",
       "      <td>32.00</td>\n",
       "      <td>214.00</td>\n",
       "      <td>11076.00</td>\n",
       "      <td>1</td>\n",
       "      <td>46652234.00</td>\n",
       "      <td>998470326.00</td>\n",
       "      <td>0.93</td>\n",
       "    </tr>\n",
       "    <tr>\n",
       "      <th>6</th>\n",
       "      <td>33699549700.0</td>\n",
       "      <td>66.00</td>\n",
       "      <td>922.00</td>\n",
       "      <td>31179.50</td>\n",
       "      <td>1</td>\n",
       "      <td>25512661.00</td>\n",
       "      <td>645272791.00</td>\n",
       "      <td>0.93</td>\n",
       "    </tr>\n",
       "    <tr>\n",
       "      <th>7</th>\n",
       "      <td>33650110160.0</td>\n",
       "      <td>52.00</td>\n",
       "      <td>1994.00</td>\n",
       "      <td>36316.50</td>\n",
       "      <td>2</td>\n",
       "      <td>40795705.00</td>\n",
       "      <td>1603480117.00</td>\n",
       "      <td>0.93</td>\n",
       "    </tr>\n",
       "    <tr>\n",
       "      <th>8</th>\n",
       "      <td>33688395982.0</td>\n",
       "      <td>48.00</td>\n",
       "      <td>946.00</td>\n",
       "      <td>17386.50</td>\n",
       "      <td>1</td>\n",
       "      <td>20232961.00</td>\n",
       "      <td>738093691.00</td>\n",
       "      <td>0.93</td>\n",
       "    </tr>\n",
       "    <tr>\n",
       "      <th>9</th>\n",
       "      <td>33677187954.0</td>\n",
       "      <td>43.00</td>\n",
       "      <td>804.00</td>\n",
       "      <td>21834.00</td>\n",
       "      <td>1</td>\n",
       "      <td>33052117.00</td>\n",
       "      <td>810946492.00</td>\n",
       "      <td>0.93</td>\n",
       "    </tr>\n",
       "  </tbody>\n",
       "</table>\n",
       "</div>"
      ],
      "text/plain": [
       "   MSISDN/Number  avg_RTT_ms  avg_TCPr_bytes  avg_tp_kbps  session_freq  session_duration  session_data_volume  satisfaction_score\n",
       "0  33607833304.0       32.00          143.00      8426.50             4       66595562.00        3785411332.00                0.95\n",
       "1  33679366089.0       39.00          179.00     17534.00             1       24480059.00         797352274.00                0.94\n",
       "2  33661931340.0       28.00         2774.00     74036.00             1       28087571.00        1171921249.00                0.94\n",
       "3  33698217663.0       57.00          425.00     10876.00             1       16782322.00         709717038.00                0.94\n",
       "4  33637975112.0       37.00         2229.00     79960.00             2       64677952.00        1790294382.00                0.94\n",
       "5  33665472384.0       32.00          214.00     11076.00             1       46652234.00         998470326.00                0.93\n",
       "6  33699549700.0       66.00          922.00     31179.50             1       25512661.00         645272791.00                0.93\n",
       "7  33650110160.0       52.00         1994.00     36316.50             2       40795705.00        1603480117.00                0.93\n",
       "8  33688395982.0       48.00          946.00     17386.50             1       20232961.00         738093691.00                0.93\n",
       "9  33677187954.0       43.00          804.00     21834.00             1       33052117.00         810946492.00                0.93"
      ]
     },
     "execution_count": 17,
     "metadata": {},
     "output_type": "execute_result"
    }
   ],
   "source": [
    "top_satisfied_user = analyzer.get_top_ten(scored_user_data, 'satisfaction_score')\n",
    "top_satisfied_user"
   ]
  },
  {
   "cell_type": "code",
   "execution_count": 18,
   "metadata": {},
   "outputs": [
    {
     "data": {
      "text/html": [
       "<div>\n",
       "<style scoped>\n",
       "    .dataframe tbody tr th:only-of-type {\n",
       "        vertical-align: middle;\n",
       "    }\n",
       "\n",
       "    .dataframe tbody tr th {\n",
       "        vertical-align: top;\n",
       "    }\n",
       "\n",
       "    .dataframe thead th {\n",
       "        text-align: right;\n",
       "    }\n",
       "</style>\n",
       "<table border=\"1\" class=\"dataframe\">\n",
       "  <thead>\n",
       "    <tr style=\"text-align: right;\">\n",
       "      <th></th>\n",
       "      <th>MSISDN/Number</th>\n",
       "      <th>satisfaction_score</th>\n",
       "    </tr>\n",
       "  </thead>\n",
       "  <tbody>\n",
       "    <tr>\n",
       "      <th>0</th>\n",
       "      <td>33607833304.0</td>\n",
       "      <td>0.95</td>\n",
       "    </tr>\n",
       "    <tr>\n",
       "      <th>1</th>\n",
       "      <td>33679366089.0</td>\n",
       "      <td>0.94</td>\n",
       "    </tr>\n",
       "    <tr>\n",
       "      <th>2</th>\n",
       "      <td>33661931340.0</td>\n",
       "      <td>0.94</td>\n",
       "    </tr>\n",
       "    <tr>\n",
       "      <th>3</th>\n",
       "      <td>33698217663.0</td>\n",
       "      <td>0.94</td>\n",
       "    </tr>\n",
       "    <tr>\n",
       "      <th>4</th>\n",
       "      <td>33637975112.0</td>\n",
       "      <td>0.94</td>\n",
       "    </tr>\n",
       "    <tr>\n",
       "      <th>5</th>\n",
       "      <td>33665472384.0</td>\n",
       "      <td>0.93</td>\n",
       "    </tr>\n",
       "    <tr>\n",
       "      <th>6</th>\n",
       "      <td>33699549700.0</td>\n",
       "      <td>0.93</td>\n",
       "    </tr>\n",
       "    <tr>\n",
       "      <th>7</th>\n",
       "      <td>33650110160.0</td>\n",
       "      <td>0.93</td>\n",
       "    </tr>\n",
       "    <tr>\n",
       "      <th>8</th>\n",
       "      <td>33688395982.0</td>\n",
       "      <td>0.93</td>\n",
       "    </tr>\n",
       "    <tr>\n",
       "      <th>9</th>\n",
       "      <td>33677187954.0</td>\n",
       "      <td>0.93</td>\n",
       "    </tr>\n",
       "  </tbody>\n",
       "</table>\n",
       "</div>"
      ],
      "text/plain": [
       "   MSISDN/Number  satisfaction_score\n",
       "0  33607833304.0                0.95\n",
       "1  33679366089.0                0.94\n",
       "2  33661931340.0                0.94\n",
       "3  33698217663.0                0.94\n",
       "4  33637975112.0                0.94\n",
       "5  33665472384.0                0.93\n",
       "6  33699549700.0                0.93\n",
       "7  33650110160.0                0.93\n",
       "8  33688395982.0                0.93\n",
       "9  33677187954.0                0.93"
      ]
     },
     "execution_count": 18,
     "metadata": {},
     "output_type": "execute_result"
    }
   ],
   "source": [
    "top_satisfied_user[['MSISDN/Number', 'satisfaction_score']]"
   ]
  },
  {
   "cell_type": "markdown",
   "metadata": {},
   "source": [
    "# Regression model\n",
    "\n",
    "Following this as a refresher [blog](https://www.analyticsvidhya.com/blog/2021/05/multiple-linear-regression-using-python-and-scikit-learn/) and [this](https://www.pluralsight.com/guides/non-linear-regression-trees-scikit-learn) one from pluralsight"
   ]
  },
  {
   "cell_type": "code",
   "execution_count": 19,
   "metadata": {},
   "outputs": [
    {
     "name": "stdout",
     "output_type": "stream",
     "text": [
      "<class 'pandas.core.frame.DataFrame'>\n",
      "RangeIndex: 106471 entries, 0 to 106470\n",
      "Data columns (total 6 columns):\n",
      " #   Column               Non-Null Count   Dtype  \n",
      "---  ------               --------------   -----  \n",
      " 0   avg_RTT_ms           106471 non-null  float64\n",
      " 1   avg_TCPr_bytes       106471 non-null  float64\n",
      " 2   avg_tp_kbps          106471 non-null  float64\n",
      " 3   session_freq         106471 non-null  int64  \n",
      " 4   session_duration     106471 non-null  float64\n",
      " 5   session_data_volume  106471 non-null  float64\n",
      "dtypes: float64(5), int64(1)\n",
      "memory usage: 4.9 MB\n"
     ]
    }
   ],
   "source": [
    "x_features = scored_user_data.iloc[:, 1:-1]\n",
    "x_features.info()"
   ]
  },
  {
   "cell_type": "code",
   "execution_count": 20,
   "metadata": {},
   "outputs": [
    {
     "data": {
      "text/plain": [
       "0   0.95\n",
       "1   0.94\n",
       "2   0.94\n",
       "Name: satisfaction_score, dtype: float64"
      ]
     },
     "execution_count": 20,
     "metadata": {},
     "output_type": "execute_result"
    }
   ],
   "source": [
    "Y = scored_user_data.iloc[:, -1]\n",
    "Y[:3]"
   ]
  },
  {
   "cell_type": "markdown",
   "metadata": {},
   "source": [
    "The data is sorted by the score, so we need to shuffle"
   ]
  },
  {
   "cell_type": "code",
   "execution_count": 21,
   "metadata": {},
   "outputs": [],
   "source": [
    "from sklearn.model_selection import train_test_split\n"
   ]
  },
  {
   "cell_type": "code",
   "execution_count": 22,
   "metadata": {},
   "outputs": [],
   "source": [
    "x_train, x_test, y_train, y_test = train_test_split(x_features, Y, test_size = 0.2, random_state = 777)\n"
   ]
  },
  {
   "cell_type": "code",
   "execution_count": 23,
   "metadata": {},
   "outputs": [
    {
     "data": {
      "text/plain": [
       "27112    0.24\n",
       "27509    0.23\n",
       "45507    0.22\n",
       "32194    0.23\n",
       "92811    0.15\n",
       "         ... \n",
       "102321   0.09\n",
       "106071   0.02\n",
       "52134    0.22\n",
       "81467    0.18\n",
       "63591    0.21\n",
       "Name: satisfaction_score, Length: 85176, dtype: float64"
      ]
     },
     "execution_count": 23,
     "metadata": {},
     "output_type": "execute_result"
    }
   ],
   "source": [
    "y_train"
   ]
  },
  {
   "cell_type": "code",
   "execution_count": 34,
   "metadata": {},
   "outputs": [],
   "source": [
    "from sklearn.pipeline import Pipeline\n",
    "from sklearn.preprocessing import StandardScaler, Normalizer, MinMaxScaler\n",
    "from sklearn.metrics import r2_score\n",
    "from sklearn.metrics import mean_squared_error as mse\n",
    "from sklearn.tree import DecisionTreeRegressor"
   ]
  },
  {
   "cell_type": "code",
   "execution_count": 28,
   "metadata": {},
   "outputs": [],
   "source": [
    "regressor = Pipeline([\n",
    "        # ('Normalizer', Normalizer()),\n",
    "        # ('MinMaxScaler', MinMaxScaler()),\n",
    "        ('StandardScaler', StandardScaler()),\n",
    "        ('model', DecisionTreeRegressor(max_depth=8, random_state=3))\n",
    "    ]\n",
    ")"
   ]
  },
  {
   "cell_type": "code",
   "execution_count": 36,
   "metadata": {},
   "outputs": [
    {
     "name": "stdout",
     "output_type": "stream",
     "text": [
      "training r2_score: 0.9539543914993333\n",
      "training mse: 0.017442098609796057\n"
     ]
    }
   ],
   "source": [
    "regressor.fit(x_train, y_train)\n",
    "train_pred = regressor.predict(x_train)\n",
    "print(f\"training r2_score: {r2_score(y_train, train_pred)}\")\n",
    "print(f\"training sqrt_mse: {np.sqrt(mse(y_train, train_pred))}\")"
   ]
  },
  {
   "cell_type": "code",
   "execution_count": 37,
   "metadata": {},
   "outputs": [
    {
     "name": "stdout",
     "output_type": "stream",
     "text": [
      "test r2_score: 0.933976906799864\n",
      "test sqrt_mse: 0.02078694584333897\n"
     ]
    }
   ],
   "source": [
    "test_preds = regressor.predict(x_test)\n",
    "print(f\"test r2_score: {r2_score(y_test, test_preds)}\")\n",
    "print(f\"test sqrt_mse: {np.sqrt(mse(y_test, test_preds))}\")"
   ]
  },
  {
   "cell_type": "markdown",
   "metadata": {},
   "source": [
    "Since the model is doing good on the test data, I belive it is good enough."
   ]
  },
  {
   "cell_type": "code",
   "execution_count": 38,
   "metadata": {},
   "outputs": [
    {
     "data": {
      "text/plain": [
       "['../models/regression_tree.joblib']"
      ]
     },
     "execution_count": 38,
     "metadata": {},
     "output_type": "execute_result"
    }
   ],
   "source": [
    "from joblib import dump\n",
    "\n",
    "dump(regressor, '../models/regression_tree.joblib')  "
   ]
  },
  {
   "cell_type": "markdown",
   "metadata": {},
   "source": [
    "# K-means for engagement & experience scores"
   ]
  },
  {
   "cell_type": "code",
   "execution_count": 49,
   "metadata": {},
   "outputs": [
    {
     "data": {
      "text/plain": [
       "(106471, 2)"
      ]
     },
     "execution_count": 49,
     "metadata": {},
     "output_type": "execute_result"
    }
   ],
   "source": [
    "eng_exp_scores = np.hstack([engagement_scores, experiance_scores])\n",
    "eng_exp_scores.shape"
   ]
  },
  {
   "cell_type": "code",
   "execution_count": 51,
   "metadata": {},
   "outputs": [
    {
     "name": "stdout",
     "output_type": "stream",
     "text": [
      "model saved\n"
     ]
    },
    {
     "data": {
      "text/plain": [
       "array([0, 1], dtype=int32)"
      ]
     },
     "execution_count": 51,
     "metadata": {},
     "output_type": "execute_result"
    }
   ],
   "source": [
    "eng_exp_kmeans = KMeans(n_clusters=2,\n",
    "                init='k-means++',\n",
    "                max_iter=300,\n",
    "                n_init=10,\n",
    "                random_state=10)\n",
    "\n",
    "eng_exp_kmeans = eng_exp_kmeans.fit(eng_exp_scores)\n",
    "dump(eng_exp_kmeans, \"../models/eng_exp_clustering_model.joblib\")\n",
    "print(\"model saved\")\n",
    "\n",
    "scored_user_data['exp_eng_clusters'] = eng_exp_kmeans.predict(eng_exp_scores)\n",
    "scored_user_data['exp_eng_clusters'].unique()"
   ]
  },
  {
   "cell_type": "code",
   "execution_count": 55,
   "metadata": {},
   "outputs": [
    {
     "data": {
      "text/html": [
       "<div>\n",
       "<style scoped>\n",
       "    .dataframe tbody tr th:only-of-type {\n",
       "        vertical-align: middle;\n",
       "    }\n",
       "\n",
       "    .dataframe tbody tr th {\n",
       "        vertical-align: top;\n",
       "    }\n",
       "\n",
       "    .dataframe thead th {\n",
       "        text-align: right;\n",
       "    }\n",
       "</style>\n",
       "<table border=\"1\" class=\"dataframe\">\n",
       "  <thead>\n",
       "    <tr style=\"text-align: right;\">\n",
       "      <th></th>\n",
       "      <th>MSISDN/Number</th>\n",
       "      <th>avg_RTT_ms</th>\n",
       "      <th>avg_TCPr_bytes</th>\n",
       "      <th>avg_tp_kbps</th>\n",
       "      <th>session_freq</th>\n",
       "      <th>session_duration</th>\n",
       "      <th>session_data_volume</th>\n",
       "      <th>satisfaction_score</th>\n",
       "      <th>exp_eng_clusters</th>\n",
       "    </tr>\n",
       "  </thead>\n",
       "  <tbody>\n",
       "    <tr>\n",
       "      <th>40</th>\n",
       "      <td>33698885261.0</td>\n",
       "      <td>42.00</td>\n",
       "      <td>1380.00</td>\n",
       "      <td>18306.50</td>\n",
       "      <td>1</td>\n",
       "      <td>35439123.00</td>\n",
       "      <td>678652812.00</td>\n",
       "      <td>0.91</td>\n",
       "      <td>1</td>\n",
       "    </tr>\n",
       "    <tr>\n",
       "      <th>66</th>\n",
       "      <td>33665700687.0</td>\n",
       "      <td>49.00</td>\n",
       "      <td>1598.00</td>\n",
       "      <td>27052.00</td>\n",
       "      <td>1</td>\n",
       "      <td>86399988.00</td>\n",
       "      <td>989061537.00</td>\n",
       "      <td>0.90</td>\n",
       "      <td>1</td>\n",
       "    </tr>\n",
       "    <tr>\n",
       "      <th>167</th>\n",
       "      <td>33678321637.0</td>\n",
       "      <td>74.00</td>\n",
       "      <td>2758.00</td>\n",
       "      <td>21328.50</td>\n",
       "      <td>1</td>\n",
       "      <td>86399950.00</td>\n",
       "      <td>803869524.00</td>\n",
       "      <td>0.86</td>\n",
       "      <td>1</td>\n",
       "    </tr>\n",
       "    <tr>\n",
       "      <th>217</th>\n",
       "      <td>33665139710.0</td>\n",
       "      <td>43.00</td>\n",
       "      <td>1282.00</td>\n",
       "      <td>5222.50</td>\n",
       "      <td>1</td>\n",
       "      <td>51055993.00</td>\n",
       "      <td>1012590410.00</td>\n",
       "      <td>0.85</td>\n",
       "      <td>1</td>\n",
       "    </tr>\n",
       "    <tr>\n",
       "      <th>313</th>\n",
       "      <td>33632595832.0</td>\n",
       "      <td>41.00</td>\n",
       "      <td>7932.00</td>\n",
       "      <td>26593.00</td>\n",
       "      <td>2</td>\n",
       "      <td>130526814.00</td>\n",
       "      <td>1908369088.00</td>\n",
       "      <td>0.82</td>\n",
       "      <td>1</td>\n",
       "    </tr>\n",
       "    <tr>\n",
       "      <th>...</th>\n",
       "      <td>...</td>\n",
       "      <td>...</td>\n",
       "      <td>...</td>\n",
       "      <td>...</td>\n",
       "      <td>...</td>\n",
       "      <td>...</td>\n",
       "      <td>...</td>\n",
       "      <td>...</td>\n",
       "      <td>...</td>\n",
       "    </tr>\n",
       "    <tr>\n",
       "      <th>106217</th>\n",
       "      <td>33782091429.0</td>\n",
       "      <td>50.00</td>\n",
       "      <td>21777860.54</td>\n",
       "      <td>48.00</td>\n",
       "      <td>1</td>\n",
       "      <td>158337883.00</td>\n",
       "      <td>281972004.00</td>\n",
       "      <td>0.01</td>\n",
       "      <td>1</td>\n",
       "    </tr>\n",
       "    <tr>\n",
       "      <th>106260</th>\n",
       "      <td>33782176396.0</td>\n",
       "      <td>50.00</td>\n",
       "      <td>21777860.54</td>\n",
       "      <td>61.00</td>\n",
       "      <td>1</td>\n",
       "      <td>166511274.00</td>\n",
       "      <td>280084495.00</td>\n",
       "      <td>0.01</td>\n",
       "      <td>1</td>\n",
       "    </tr>\n",
       "    <tr>\n",
       "      <th>106300</th>\n",
       "      <td>33788060465.0</td>\n",
       "      <td>14.00</td>\n",
       "      <td>21777860.54</td>\n",
       "      <td>40.50</td>\n",
       "      <td>1</td>\n",
       "      <td>86399898.00</td>\n",
       "      <td>146082436.00</td>\n",
       "      <td>0.01</td>\n",
       "      <td>1</td>\n",
       "    </tr>\n",
       "    <tr>\n",
       "      <th>106334</th>\n",
       "      <td>33768993653.0</td>\n",
       "      <td>48.00</td>\n",
       "      <td>21777860.54</td>\n",
       "      <td>51.50</td>\n",
       "      <td>1</td>\n",
       "      <td>222884120.00</td>\n",
       "      <td>378286952.00</td>\n",
       "      <td>0.01</td>\n",
       "      <td>1</td>\n",
       "    </tr>\n",
       "    <tr>\n",
       "      <th>106335</th>\n",
       "      <td>33763605273.0</td>\n",
       "      <td>26.00</td>\n",
       "      <td>772381.81</td>\n",
       "      <td>437.00</td>\n",
       "      <td>1</td>\n",
       "      <td>252248542.00</td>\n",
       "      <td>427134894.00</td>\n",
       "      <td>0.01</td>\n",
       "      <td>1</td>\n",
       "    </tr>\n",
       "  </tbody>\n",
       "</table>\n",
       "<p>2006 rows × 9 columns</p>\n",
       "</div>"
      ],
      "text/plain": [
       "        MSISDN/Number  avg_RTT_ms  avg_TCPr_bytes  avg_tp_kbps  session_freq  session_duration  session_data_volume  satisfaction_score  exp_eng_clusters\n",
       "40      33698885261.0       42.00         1380.00     18306.50             1       35439123.00         678652812.00                0.91                 1\n",
       "66      33665700687.0       49.00         1598.00     27052.00             1       86399988.00         989061537.00                0.90                 1\n",
       "167     33678321637.0       74.00         2758.00     21328.50             1       86399950.00         803869524.00                0.86                 1\n",
       "217     33665139710.0       43.00         1282.00      5222.50             1       51055993.00        1012590410.00                0.85                 1\n",
       "313     33632595832.0       41.00         7932.00     26593.00             2      130526814.00        1908369088.00                0.82                 1\n",
       "...               ...         ...             ...          ...           ...               ...                  ...                 ...               ...\n",
       "106217  33782091429.0       50.00     21777860.54        48.00             1      158337883.00         281972004.00                0.01                 1\n",
       "106260  33782176396.0       50.00     21777860.54        61.00             1      166511274.00         280084495.00                0.01                 1\n",
       "106300  33788060465.0       14.00     21777860.54        40.50             1       86399898.00         146082436.00                0.01                 1\n",
       "106334  33768993653.0       48.00     21777860.54        51.50             1      222884120.00         378286952.00                0.01                 1\n",
       "106335  33763605273.0       26.00       772381.81       437.00             1      252248542.00         427134894.00                0.01                 1\n",
       "\n",
       "[2006 rows x 9 columns]"
      ]
     },
     "execution_count": 55,
     "metadata": {},
     "output_type": "execute_result"
    }
   ],
   "source": [
    "scored_user_data[scored_user_data['exp_eng_clusters']==1]"
   ]
  },
  {
   "cell_type": "code",
   "execution_count": 56,
   "metadata": {},
   "outputs": [
    {
     "data": {
      "image/png": "[encoded data removed]",
      "text/plain": [
       "<Figure size 864x648 with 1 Axes>"
      ]
     },
     "metadata": {
      "needs_background": "light"
     },
     "output_type": "display_data"
    }
   ],
   "source": [
    "ax = plt.figure(figsize=(12, 9))\n",
    "\n",
    "\n",
    "c0 = scored_user_data[scored_user_data['exp_eng_clusters']==0].index.values\n",
    "c1 = scored_user_data[scored_user_data['exp_eng_clusters']==1].index.values\n",
    "\n",
    "plt.scatter(eng_exp_scores[c0, 0], \n",
    "            eng_exp_scores[c0, 1],\n",
    "           color='blue')\n",
    "plt.scatter(eng_exp_scores[c1, 0], \n",
    "            eng_exp_scores[c1, 1],\n",
    "           color='green')\n",
    "\n",
    "\n",
    "# Plot the clusters \n",
    "plt.scatter(eng_exp_kmeans.cluster_centers_[:, 0], \n",
    "            eng_exp_kmeans.cluster_centers_[:, 1], \n",
    "            s=200,                             # Set centroid size\n",
    "            c='red')                           # Set centroid color\n",
    "plt.show()"
   ]
  },
  {
   "cell_type": "code",
   "execution_count": null,
   "metadata": {},
   "outputs": [],
   "source": []
  }
 ],
 "metadata": {
  "interpreter": {
   "hash": "90f3c236e305caa67c4af5a9a2753b2aac1bde58c781ea8c901a63dcfe943b9f"
  },
  "kernelspec": {
   "display_name": "Python 3.10.4 ('venv': venv)",
   "language": "python",
   "name": "python3"
  },
  "language_info": {
   "codemirror_mode": {
    "name": "ipython",
    "version": 3
   },
   "file_extension": ".py",
   "mimetype": "text/x-python",
   "name": "python",
   "nbconvert_exporter": "python",
   "pygments_lexer": "ipython3",
   "version": "3.10.4"
  },
  "orig_nbformat": 4
 },
 "nbformat": 4,
 "nbformat_minor": 2
}
