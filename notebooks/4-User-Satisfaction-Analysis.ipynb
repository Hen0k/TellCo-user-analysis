{
 "cells": [
  {
   "cell_type": "code",
   "execution_count": 1,
   "metadata": {},
   "outputs": [],
   "source": [
    "%%capture\n",
    "%run \"./3-User-Experience-Analysis.ipynb\""
   ]
  },
  {
   "cell_type": "code",
   "execution_count": 2,
   "metadata": {},
   "outputs": [
    {
     "data": {
      "text/html": [
       "<div>\n",
       "<style scoped>\n",
       "    .dataframe tbody tr th:only-of-type {\n",
       "        vertical-align: middle;\n",
       "    }\n",
       "\n",
       "    .dataframe tbody tr th {\n",
       "        vertical-align: top;\n",
       "    }\n",
       "\n",
       "    .dataframe thead th {\n",
       "        text-align: right;\n",
       "    }\n",
       "</style>\n",
       "<table border=\"1\" class=\"dataframe\">\n",
       "  <thead>\n",
       "    <tr style=\"text-align: right;\">\n",
       "      <th></th>\n",
       "      <th>MSISDN/Number</th>\n",
       "      <th>avg_RTT_ms</th>\n",
       "      <th>avg_TCPr_bytes</th>\n",
       "      <th>avg_tp_kbps</th>\n",
       "      <th>clusters_by_experiance</th>\n",
       "    </tr>\n",
       "  </thead>\n",
       "  <tbody>\n",
       "    <tr>\n",
       "      <th>0</th>\n",
       "      <td>33601001722.0</td>\n",
       "      <td>46.00</td>\n",
       "      <td>21777860.54</td>\n",
       "      <td>38.00</td>\n",
       "      <td>0</td>\n",
       "    </tr>\n",
       "    <tr>\n",
       "      <th>1</th>\n",
       "      <td>33601001754.0</td>\n",
       "      <td>31.00</td>\n",
       "      <td>21777860.54</td>\n",
       "      <td>49.50</td>\n",
       "      <td>0</td>\n",
       "    </tr>\n",
       "    <tr>\n",
       "      <th>2</th>\n",
       "      <td>33601002511.0</td>\n",
       "      <td>50.00</td>\n",
       "      <td>21777860.54</td>\n",
       "      <td>48.50</td>\n",
       "      <td>0</td>\n",
       "    </tr>\n",
       "    <tr>\n",
       "      <th>3</th>\n",
       "      <td>33601007832.0</td>\n",
       "      <td>84.00</td>\n",
       "      <td>772117.81</td>\n",
       "      <td>124.00</td>\n",
       "      <td>0</td>\n",
       "    </tr>\n",
       "    <tr>\n",
       "      <th>4</th>\n",
       "      <td>33601008617.0</td>\n",
       "      <td>119.00</td>\n",
       "      <td>31148692.54</td>\n",
       "      <td>28422.00</td>\n",
       "      <td>0</td>\n",
       "    </tr>\n",
       "  </tbody>\n",
       "</table>\n",
       "</div>"
      ],
      "text/plain": [
       "   MSISDN/Number  avg_RTT_ms  avg_TCPr_bytes  avg_tp_kbps  clusters_by_experiance\n",
       "0  33601001722.0       46.00     21777860.54        38.00                       0\n",
       "1  33601001754.0       31.00     21777860.54        49.50                       0\n",
       "2  33601002511.0       50.00     21777860.54        48.50                       0\n",
       "3  33601007832.0       84.00       772117.81       124.00                       0\n",
       "4  33601008617.0      119.00     31148692.54     28422.00                       0"
      ]
     },
     "metadata": {},
     "output_type": "display_data"
    },
    {
     "data": {
      "text/html": [
       "<div>\n",
       "<style scoped>\n",
       "    .dataframe tbody tr th:only-of-type {\n",
       "        vertical-align: middle;\n",
       "    }\n",
       "\n",
       "    .dataframe tbody tr th {\n",
       "        vertical-align: top;\n",
       "    }\n",
       "\n",
       "    .dataframe thead th {\n",
       "        text-align: right;\n",
       "    }\n",
       "</style>\n",
       "<table border=\"1\" class=\"dataframe\">\n",
       "  <thead>\n",
       "    <tr style=\"text-align: right;\">\n",
       "      <th></th>\n",
       "      <th>MSISDN</th>\n",
       "      <th>session_freq</th>\n",
       "      <th>session_duration</th>\n",
       "      <th>session_data_volume</th>\n",
       "      <th>clusters_by_engagement</th>\n",
       "    </tr>\n",
       "  </thead>\n",
       "  <tbody>\n",
       "    <tr>\n",
       "      <th>0</th>\n",
       "      <td>33614892860.0</td>\n",
       "      <td>17</td>\n",
       "      <td>9966905758.00</td>\n",
       "      <td>16341524035.00</td>\n",
       "      <td>1</td>\n",
       "    </tr>\n",
       "    <tr>\n",
       "      <th>1</th>\n",
       "      <td>33626320676.0</td>\n",
       "      <td>18</td>\n",
       "      <td>8791936680.00</td>\n",
       "      <td>15996644092.00</td>\n",
       "      <td>1</td>\n",
       "    </tr>\n",
       "    <tr>\n",
       "      <th>2</th>\n",
       "      <td>33625779332.0</td>\n",
       "      <td>17</td>\n",
       "      <td>18553763486.00</td>\n",
       "      <td>14701273330.00</td>\n",
       "      <td>1</td>\n",
       "    </tr>\n",
       "    <tr>\n",
       "      <th>3</th>\n",
       "      <td>33675877202.0</td>\n",
       "      <td>15</td>\n",
       "      <td>4865953827.00</td>\n",
       "      <td>14556184322.00</td>\n",
       "      <td>2</td>\n",
       "    </tr>\n",
       "    <tr>\n",
       "      <th>4</th>\n",
       "      <td>33659725664.0</td>\n",
       "      <td>16</td>\n",
       "      <td>4035436251.00</td>\n",
       "      <td>13888413360.00</td>\n",
       "      <td>2</td>\n",
       "    </tr>\n",
       "  </tbody>\n",
       "</table>\n",
       "</div>"
      ],
      "text/plain": [
       "          MSISDN  session_freq  session_duration  session_data_volume  clusters_by_engagement\n",
       "0  33614892860.0            17     9966905758.00       16341524035.00                       1\n",
       "1  33626320676.0            18     8791936680.00       15996644092.00                       1\n",
       "2  33625779332.0            17    18553763486.00       14701273330.00                       1\n",
       "3  33675877202.0            15     4865953827.00       14556184322.00                       2\n",
       "4  33659725664.0            16     4035436251.00       13888413360.00                       2"
      ]
     },
     "metadata": {},
     "output_type": "display_data"
    }
   ],
   "source": [
    "display(user_experiance.head())\n",
    "display(user_engagment.head())"
   ]
  },
  {
   "cell_type": "code",
   "execution_count": 6,
   "metadata": {},
   "outputs": [
    {
     "data": {
      "text/plain": [
       "array([[1.09391128e-09, 7.61361382e-02, 9.96417984e-01],\n",
       "       [2.63129530e-09, 4.95174539e-01, 8.54597884e-01],\n",
       "       [1.53747728e-09, 2.11636918e-01, 9.75714410e-01]])"
      ]
     },
     "execution_count": 6,
     "metadata": {},
     "output_type": "execute_result"
    }
   ],
   "source": [
    "engagement_model.cluster_centers_"
   ]
  },
  {
   "cell_type": "code",
   "execution_count": 5,
   "metadata": {},
   "outputs": [
    {
     "data": {
      "text/plain": [
       "array([[5.04010144e-04, 9.99673340e-01, 6.48644746e-03],\n",
       "       [5.25655652e-03, 3.76632818e-01, 9.02661339e-01],\n",
       "       [5.68409939e-03, 8.84204487e-01, 4.35449459e-01]])"
      ]
     },
     "execution_count": 5,
     "metadata": {},
     "output_type": "execute_result"
    }
   ],
   "source": [
    "experiance_model.cluster_centers_"
   ]
  },
  {
   "cell_type": "code",
   "execution_count": null,
   "metadata": {},
   "outputs": [],
   "source": []
  }
 ],
 "metadata": {
  "interpreter": {
   "hash": "90f3c236e305caa67c4af5a9a2753b2aac1bde58c781ea8c901a63dcfe943b9f"
  },
  "kernelspec": {
   "display_name": "Python 3.10.4 ('venv': venv)",
   "language": "python",
   "name": "python3"
  },
  "language_info": {
   "codemirror_mode": {
    "name": "ipython",
    "version": 3
   },
   "file_extension": ".py",
   "mimetype": "text/x-python",
   "name": "python",
   "nbconvert_exporter": "python",
   "pygments_lexer": "ipython3",
   "version": "3.10.4"
  },
  "orig_nbformat": 4
 },
 "nbformat": 4,
 "nbformat_minor": 2
}
