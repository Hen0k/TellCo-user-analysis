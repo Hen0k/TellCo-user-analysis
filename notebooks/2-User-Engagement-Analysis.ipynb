{
 "cells": [
  {
   "cell_type": "code",
   "execution_count": null,
   "metadata": {},
   "outputs": [],
   "source": [
    "# general\n",
    "import os\n",
    "import gc\n",
    "import sys\n",
    "from datetime import timedelta\n",
    "\n",
    "# wranglers\n",
    "import pandas as pd\n",
    "import numpy as np\n",
    "import matplotlib.pyplot as plt\n",
    "import matplotlib\n",
    "import seaborn as sns\n",
    "%matplotlib inline\n",
    "\n",
    "# custom modules\n",
    "cwd = os.getcwd()\n",
    "parent = cwd.replace('/notebooks', '')\n",
    "sys.path.insert(0, parent) \n",
    "\n",
    "from scripts.utils import (DataLoader, \n",
    "                            Plotters, \n",
    "                            CleanDataFrame, \n",
    "                            Analysis)"
   ]
  },
  {
   "cell_type": "code",
   "execution_count": null,
   "metadata": {},
   "outputs": [],
   "source": [
    "pd.set_option('display.max_columns', None)\n",
    "pd.set_option('display.max_colwidth', None)\n",
    "pd.set_option(\"expand_frame_repr\", False)\n",
    "pd.set_option('display.float_format', '{:.2f}'.format)"
   ]
  },
  {
   "cell_type": "code",
   "execution_count": null,
   "metadata": {},
   "outputs": [],
   "source": [
    "analyzer = Analysis()\n",
    "cleaner = CleanDataFrame()\n",
    "plotter = Plotters(w=7, h=5)"
   ]
  },
  {
   "cell_type": "code",
   "execution_count": null,
   "metadata": {},
   "outputs": [],
   "source": [
    "df = DataLoader(\"../data\", \"Week1_challenge_data_source.csv\").read_csv()\n",
    "df = cleaner.rename_columns(df)\n",
    "df = cleaner.fix_datatypes(df)\n",
    "df = cleaner.handle_missing_value(df, verbose=False)\n",
    "\n",
    "df.shape"
   ]
  },
  {
   "cell_type": "code",
   "execution_count": null,
   "metadata": {},
   "outputs": [],
   "source": [
    "# Group users\n",
    "users_data = df.groupby('MSISDN/Number')\n",
    "\n",
    "# Get sessions frequency (count the number of sessions)\n",
    "users_sessions_frequency = users_data['Bearer Id'].count()\n",
    "users_sessions_frequency\n",
    "# How long each session was\n",
    "users_sessions_duration = users_data['Dur. ms'].sum()\n",
    "users_sessions_duration\n",
    "# data volume per session\n",
    "apps = ['Social Media DL (Bytes)',\n",
    "        'Social Media UL (Bytes)',\n",
    "        'Google DL (Bytes)',\n",
    "        'Google UL (Bytes)',\n",
    "        'Email DL (Bytes)',\n",
    "        'Email UL (Bytes)',\n",
    "        'Youtube DL (Bytes)',\n",
    "        'Youtube UL (Bytes)',\n",
    "        'Netflix DL (Bytes)',\n",
    "        'Netflix UL (Bytes)',\n",
    "        'Gaming DL (Bytes)',\n",
    "        'Gaming UL (Bytes)',\n",
    "        'Other DL (Bytes)',\n",
    "        'Other UL (Bytes)']\n",
    "user_session_data_vol = users_data[apps].sum().sum(axis=1)\n",
    "user_session_data_vol"
   ]
  },
  {
   "cell_type": "code",
   "execution_count": null,
   "metadata": {},
   "outputs": [],
   "source": [
    "user_engagment = pd.DataFrame(\n",
    "    {\n",
    "        \"MSISDN\": users_sessions_frequency.index.values,\n",
    "        \"session_freq\": users_sessions_frequency.values,\n",
    "        \"session_duration\": users_sessions_duration.values,\n",
    "        \"session_data_volume\": user_session_data_vol.values\n",
    "    }\n",
    ")\n",
    "user_engagment.sort_values(['session_freq', 'session_duration', 'session_data_volume'],\n",
    "                           ascending=False, inplace=True)\n",
    "user_engagment.reset_index(drop=True, inplace=True)\n",
    "user_engagment.head()"
   ]
  },
  {
   "cell_type": "code",
   "execution_count": null,
   "metadata": {},
   "outputs": [],
   "source": [
    "top_ten_customers = user_engagment.head(10)\n",
    "top_ten_customers"
   ]
  },
  {
   "cell_type": "code",
   "execution_count": null,
   "metadata": {},
   "outputs": [],
   "source": [
    "top_ten_session_freq = analyzer.get_top_ten(user_engagment, 'session_freq')\n",
    "top_ten_session_duration = analyzer.get_top_ten(user_engagment, 'session_duration')\n",
    "top_ten_session_dat_vol = analyzer.get_top_ten(user_engagment, 'session_data_volume')"
   ]
  },
  {
   "cell_type": "code",
   "execution_count": null,
   "metadata": {},
   "outputs": [],
   "source": [
    "top_ten_session_dat_vol"
   ]
  },
  {
   "cell_type": "code",
   "execution_count": null,
   "metadata": {},
   "outputs": [],
   "source": [
    "from sklearn.cluster import KMeans\n",
    "from sklearn.preprocessing import Normalizer"
   ]
  },
  {
   "cell_type": "code",
   "execution_count": null,
   "metadata": {},
   "outputs": [],
   "source": [
    "import seaborn as sns"
   ]
  },
  {
   "cell_type": "code",
   "execution_count": null,
   "metadata": {},
   "outputs": [],
   "source": [
    "g = sns.PairGrid(user_engagment)\n",
    "g.map(sns.scatterplot);"
   ]
  },
  {
   "cell_type": "code",
   "execution_count": 25,
   "metadata": {},
   "outputs": [
    {
     "data": {
      "image/png": "[encoded data removed]",
      "text/plain": [
       "<Figure size 432x288 with 1 Axes>"
      ]
     },
     "metadata": {
      "needs_background": "light"
     },
     "output_type": "display_data"
    }
   ],
   "source": [
    "X = np.array(user_engagment.loc[:, :]).reshape(-1, 2)\n",
    "wcss = []\n",
    "\n",
    "for i in range(1, 11):\n",
    "    model = KMeans(n_clusters = i,     \n",
    "                    init = 'k-means++',                 # Initialization method for kmeans\n",
    "                    max_iter = 300,                     # Maximum number of iterations \n",
    "                    n_init = 10,                        # Choose how often algorithm will run with different centroid \n",
    "                    random_state = 0)                   # Choose random state for reproducibility\n",
    "    model.fit(X)                              \n",
    "    wcss.append(model.inertia_)\n",
    "    \n",
    "# Show Elbow plot\n",
    "plt.plot(range(1, 11), wcss)\n",
    "plt.title('Elbow Method')                               # Set plot title\n",
    "plt.xlabel('Number of clusters')                        # Set x axis name\n",
    "plt.ylabel('Within Cluster Sum of Squares (WCSS)')      # Set y axis name\n",
    "plt.show()"
   ]
  },
  {
   "cell_type": "code",
   "execution_count": 26,
   "metadata": {},
   "outputs": [],
   "source": [
    "kmeans = KMeans(n_clusters=3, init = 'k-means++',             # Initialization method for kmeans\n",
    "                max_iter = 300,                 # Maximum number of iterations\n",
    "                n_init = 10,                    # Choose how often algorithm will run with different centroid\n",
    "                random_state = 0)               # Choose random state for reproducibility\n",
    "\n",
    "pred_y = kmeans.fit_predict(X)\n",
    "\n",
    "\n"
   ]
  },
  {
   "cell_type": "code",
   "execution_count": 27,
   "metadata": {},
   "outputs": [
    {
     "data": {
      "image/png": "[encoded data removed]",
      "text/plain": [
       "<Figure size 432x288 with 1 Axes>"
      ]
     },
     "metadata": {
      "needs_background": "light"
     },
     "output_type": "display_data"
    }
   ],
   "source": [
    "# Plot the data\n",
    "import matplotlib.pyplot as plt \n",
    "X = pd.DataFrame({'x':X[:, 0], 'y': X[:, 1]}).astype(np.float64)\n",
    "plt.scatter(X['x'], \n",
    "            X['y'])\n",
    "\n",
    "# Plot the clusters \n",
    "plt.scatter(kmeans.cluster_centers_[:, 0], \n",
    "            kmeans.cluster_centers_[:, 1], \n",
    "            s=200,                             # Set centroid size\n",
    "            c='red')                           # Set centroid color\n",
    "plt.show()"
   ]
  },
  {
   "cell_type": "code",
   "execution_count": 28,
   "metadata": {},
   "outputs": [],
   "source": [
    "# X.astype(np.float64).plot.scatter(x='x', y='y')"
   ]
  },
  {
   "cell_type": "code",
   "execution_count": null,
   "metadata": {},
   "outputs": [],
   "source": []
  }
 ],
 "metadata": {
  "interpreter": {
   "hash": "90f3c236e305caa67c4af5a9a2753b2aac1bde58c781ea8c901a63dcfe943b9f"
  },
  "kernelspec": {
   "display_name": "Python 3.10.4 ('venv': venv)",
   "language": "python",
   "name": "python3"
  },
  "language_info": {
   "codemirror_mode": {
    "name": "ipython",
    "version": 3
   },
   "file_extension": ".py",
   "mimetype": "text/x-python",
   "name": "python",
   "nbconvert_exporter": "python",
   "pygments_lexer": "ipython3",
   "version": "3.10.4"
  },
  "orig_nbformat": 4
 },
 "nbformat": 4,
 "nbformat_minor": 2
}
