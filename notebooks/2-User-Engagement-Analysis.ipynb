{
 "cells": [
  {
   "cell_type": "code",
   "execution_count": 1,
   "metadata": {},
   "outputs": [],
   "source": [
    "# general\n",
    "import os\n",
    "import gc\n",
    "import sys\n",
    "from datetime import timedelta\n",
    "\n",
    "# wranglers\n",
    "import pandas as pd\n",
    "import numpy as np\n",
    "import matplotlib.pyplot as plt\n",
    "import matplotlib\n",
    "import seaborn as sns\n",
    "%matplotlib inline\n",
    "\n",
    "# custom modules\n",
    "cwd = os.getcwd()\n",
    "parent = cwd.replace('/notebooks', '')\n",
    "sys.path.insert(0, parent) \n",
    "\n",
    "from scripts.utils import (DataLoader, \n",
    "                            Plotters, \n",
    "                            CleanDataFrame, \n",
    "                            Analysis)"
   ]
  },
  {
   "cell_type": "code",
   "execution_count": 2,
   "metadata": {},
   "outputs": [],
   "source": [
    "pd.set_option('display.max_columns', None)\n",
    "pd.set_option('display.max_colwidth', None)\n",
    "pd.set_option(\"expand_frame_repr\", False)\n",
    "pd.set_option('display.float_format', '{:.2f}'.format)"
   ]
  },
  {
   "cell_type": "code",
   "execution_count": 3,
   "metadata": {},
   "outputs": [],
   "source": [
    "analyzer = Analysis()\n",
    "cleaner = CleanDataFrame()\n",
    "plotter = Plotters(w=7, h=5)"
   ]
  },
  {
   "cell_type": "code",
   "execution_count": 6,
   "metadata": {},
   "outputs": [
    {
     "data": {
      "text/plain": [
       "(148506, 55)"
      ]
     },
     "execution_count": 6,
     "metadata": {},
     "output_type": "execute_result"
    }
   ],
   "source": [
    "df = DataLoader(\"../data\", \"Week1_challenge_data_source.csv\").read_csv()\n",
    "df = cleaner.rename_columns(df)\n",
    "df = cleaner.fix_datatypes(df)\n",
    "df = cleaner.handle_missing_value(df, verbose=False)\n",
    "\n",
    "df.shape"
   ]
  },
  {
   "cell_type": "code",
   "execution_count": 28,
   "metadata": {},
   "outputs": [
    {
     "data": {
      "text/plain": [
       "MSISDN/Number\n",
       "3197020876596.0      699802071.00\n",
       "33601001722.0       1255787564.00\n",
       "33601001754.0        436417344.00\n",
       "33601002511.0       1091052984.00\n",
       "33601007832.0        447568699.00\n",
       "                         ...     \n",
       "33789967113.0        616222769.00\n",
       "33789980299.0       2157260638.00\n",
       "33789996170.0       1006032924.00\n",
       "33789997247.0        684943408.00\n",
       "882397108489451.0    528313366.00\n",
       "Length: 106471, dtype: float64"
      ]
     },
     "execution_count": 28,
     "metadata": {},
     "output_type": "execute_result"
    }
   ],
   "source": [
    "# Group users\n",
    "users_data = df.groupby('MSISDN/Number')\n",
    "\n",
    "# Get sessions frequency (count the number of sessions)\n",
    "users_sessions_frequency = users_data['Bearer Id'].count()\n",
    "users_sessions_frequency\n",
    "# How long each session was\n",
    "users_sessions_duration = users_data['Dur. ms'].sum()\n",
    "users_sessions_duration\n",
    "# data volume per session\n",
    "apps = ['Social Media DL (Bytes)',\n",
    "        'Social Media UL (Bytes)',\n",
    "        'Google DL (Bytes)',\n",
    "        'Google UL (Bytes)',\n",
    "        'Email DL (Bytes)',\n",
    "        'Email UL (Bytes)',\n",
    "        'Youtube DL (Bytes)',\n",
    "        'Youtube UL (Bytes)',\n",
    "        'Netflix DL (Bytes)',\n",
    "        'Netflix UL (Bytes)',\n",
    "        'Gaming DL (Bytes)',\n",
    "        'Gaming UL (Bytes)',\n",
    "        'Other DL (Bytes)',\n",
    "        'Other UL (Bytes)']\n",
    "user_session_data_vol = users_data[apps].sum().sum(axis=1)\n",
    "user_session_data_vol"
   ]
  },
  {
   "cell_type": "code",
   "execution_count": 19,
   "metadata": {},
   "outputs": [
    {
     "data": {
      "text/plain": [
       "RangeIndex(start=0, stop=2, step=1)"
      ]
     },
     "execution_count": 19,
     "metadata": {},
     "output_type": "execute_result"
    }
   ],
   "source": [
    "users_data.columns"
   ]
  },
  {
   "cell_type": "code",
   "execution_count": null,
   "metadata": {},
   "outputs": [],
   "source": []
  }
 ],
 "metadata": {
  "interpreter": {
   "hash": "90f3c236e305caa67c4af5a9a2753b2aac1bde58c781ea8c901a63dcfe943b9f"
  },
  "kernelspec": {
   "display_name": "Python 3.10.4 ('venv': venv)",
   "language": "python",
   "name": "python3"
  },
  "language_info": {
   "codemirror_mode": {
    "name": "ipython",
    "version": 3
   },
   "file_extension": ".py",
   "mimetype": "text/x-python",
   "name": "python",
   "nbconvert_exporter": "python",
   "pygments_lexer": "ipython3",
   "version": "3.10.4"
  },
  "orig_nbformat": 4
 },
 "nbformat": 4,
 "nbformat_minor": 2
}
